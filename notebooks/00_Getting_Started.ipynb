{
 "cells": [
  {
   "cell_type": "markdown",
   "metadata": {},
   "source": [
    "# Getting Started"
   ]
  },
  {
   "cell_type": "markdown",
   "metadata": {},
   "source": [
    "## Python Installation"
   ]
  },
  {
   "cell_type": "markdown",
   "metadata": {},
   "source": [
    "Download lastest version of Python3 from https://www.python.org/downloads/ and install Python3 locally.\n",
    "\n",
    "For Windows users, after installation, you may need to edit environmental variables to let the command shell to recognize `python` or `python3` command globally. See https://anthonydebarros.com/2015/08/16/setting-up-python-in-windows-10/"
   ]
  },
  {
   "cell_type": "markdown",
   "metadata": {},
   "source": [
    "## Jupyter Notebook Installation"
   ]
  },
  {
   "cell_type": "markdown",
   "metadata": {},
   "source": [
    "Follow http://jupyter.org/install in section \"Installing Jupyter with pip\" to install Jupyer.\n",
    "\n",
    "Basically you need to run the following\n",
    "```\n",
    "python3 -m pip install --upgrade pip\n",
    "python3 -m pip install jupyter\n",
    "```\n",
    "You may find more information in the above link."
   ]
  },
  {
   "cell_type": "markdown",
   "metadata": {},
   "source": [
    "## Frequently Used Packages Installation"
   ]
  },
  {
   "cell_type": "markdown",
   "metadata": {},
   "source": [
    "Here is a list of frequently used packages for scientific computation\n",
    "\n",
    "* `numpy`, `scipy`: basic numerical computation, array manipulation and linear algebra\n",
    "* `pandas`: dataframe manipulation\n",
    "* `matplotlib`: the most frequently used plot and visulazation package\n",
    "* `seaborn`: statistical data visualization\n",
    "* `sympy`: symbolic computation, a python alternative of mathematica\n",
    "* `urllib`, `requests`, `beautifulsoup4`: access online material, parse HTML file, useful when you need to implement your own web crawler to collect raw data.\n",
    "* `sqlite3`, `json`: easy handler for SQL database and JSON files"
   ]
  },
  {
   "cell_type": "markdown",
   "metadata": {},
   "source": [
    "## TensorFlow Installation with pip (CPU only)"
   ]
  },
  {
   "cell_type": "markdown",
   "metadata": {},
   "source": [
    "For full installation guide, please check https://www.tensorflow.org/install/\n",
    "\n",
    "But basically if all above are done properly, you only need\n",
    "```\n",
    "pip3 install tensorflow\n",
    "```\n",
    "\n",
    "To validate your TensorFlow is installed successfully, first enter python interactive environment by typing `python3` in command line and then run the following code\n",
    "```python\n",
    ">>> import tensorflow as tf\n",
    ">>> hello = tf.constant('Hello, TensorFlow!')\n",
    ">>> sess = tf.Session()\n",
    ">>> print(sess.run(hello))\n",
    "```\n",
    "If the system outputs the following, then you are ready to begin writing TensorFlow programs:\n",
    "```\n",
    "Hello, TensorFlow!\n",
    "```"
   ]
  },
  {
   "cell_type": "code",
   "execution_count": null,
   "metadata": {
    "collapsed": true
   },
   "outputs": [],
   "source": []
  }
 ],
 "metadata": {
  "anaconda-cloud": {},
  "kernelspec": {
   "display_name": "Python [default]",
   "language": "python",
   "name": "python3"
  },
  "language_info": {
   "codemirror_mode": {
    "name": "ipython",
    "version": 3
   },
   "file_extension": ".py",
   "mimetype": "text/x-python",
   "name": "python",
   "nbconvert_exporter": "python",
   "pygments_lexer": "ipython3",
   "version": "3.5.2"
  }
 },
 "nbformat": 4,
 "nbformat_minor": 2
}
