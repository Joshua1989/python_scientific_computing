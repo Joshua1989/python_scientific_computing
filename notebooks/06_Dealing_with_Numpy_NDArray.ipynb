{
 "cells": [
  {
   "cell_type": "markdown",
   "metadata": {},
   "source": [
    "# Deal with Numpy NDArray"
   ]
  },
  {
   "cell_type": "markdown",
   "metadata": {},
   "source": [
    "The foundation for numerical computation in Python is the `numpy` package, and essentially all scientific libraries in Python build on this - e.g. `scipy`, `pandas`, `statsmodels`, `scikit-learn`, `cv2` etc. The basic data structure in `numpy` is the NDArray, and it is essential to become familiar with how to slice and dice this object."
   ]
  },
  {
   "cell_type": "markdown",
   "metadata": {},
   "source": [
    "## Basic Array Manipulation"
   ]
  },
  {
   "cell_type": "markdown",
   "metadata": {},
   "source": [
    "### Array Creation"
   ]
  },
  {
   "cell_type": "code",
   "execution_count": 9,
   "metadata": {},
   "outputs": [
    {
     "name": "stdout",
     "output_type": "stream",
     "text": [
      "[1 3 4 6]\n",
      "[[ 1  3  5]\n",
      " [ 7  9 11]]\n"
     ]
    }
   ],
   "source": [
    "# From (nested) list\n",
    "print(np.array([1,3,4,6]))\n",
    "print(np.array([[1,3,5], [7,9,11]]))"
   ]
  },
  {
   "cell_type": "code",
   "execution_count": 13,
   "metadata": {},
   "outputs": [
    {
     "name": "stdout",
     "output_type": "stream",
     "text": [
      "[1 3 5 7 9]\n",
      "[0.  0.1 0.2 0.3 0.4 0.5 0.6 0.7 0.8 0.9 1. ]\n",
      "[1.e-05 1.e-04 1.e-03 1.e-02 1.e-01 1.e+00 1.e+01 1.e+02 1.e+03]\n"
     ]
    }
   ],
   "source": [
    "# From range, arithmetic sequence, can also in log scale\n",
    "print(np.arange(1,10,2))\n",
    "print(np.linspace(0,1,11))\n",
    "print(np.logspace(-5,3,9))"
   ]
  },
  {
   "cell_type": "code",
   "execution_count": 17,
   "metadata": {},
   "outputs": [
    {
     "name": "stdout",
     "output_type": "stream",
     "text": [
      "[[1. 1. 1.]\n",
      " [1. 1. 1.]]\n",
      "[0. 0. 0. 0. 0.]\n",
      "[[1. 0. 0.]\n",
      " [0. 1. 0.]\n",
      " [0. 0. 1.]]\n",
      "[[1 0 0]\n",
      " [0 2 0]\n",
      " [0 0 3]]\n"
     ]
    }
   ],
   "source": [
    "# Basic matrices\n",
    "print(np.ones((2,3)))\n",
    "print(np.zeros(5))\n",
    "print(np.eye(3))\n",
    "print(np.diag([1,2,3]))"
   ]
  },
  {
   "cell_type": "code",
   "execution_count": 82,
   "metadata": {},
   "outputs": [
    {
     "name": "stdout",
     "output_type": "stream",
     "text": [
      "[[   1    1    2    6   24]\n",
      " [   1    2    6   24  120]\n",
      " [   2    6   24  120  720]\n",
      " [   6   24  120  720 5040]]\n"
     ]
    }
   ],
   "source": [
    "# From function, function must be vectorized\n",
    "factorial = lambda x: 1 if x <= 1 else x * factorial(x-1)\n",
    "print(np.fromfunction(lambda i,j: np.vectorize(factorial)(i+j), (4,5)))"
   ]
  },
  {
   "cell_type": "code",
   "execution_count": 85,
   "metadata": {},
   "outputs": [
    {
     "name": "stdout",
     "output_type": "stream",
     "text": [
      "[   2  120    6 5040    1    1   24]\n"
     ]
    }
   ],
   "source": [
    "#From iterable object, especially for generator, dtype must be specified explicitly\n",
    "A = [2,5,3,7,1,0,4]\n",
    "print(np.fromiter((factorial(x) for x in A), dtype=int))"
   ]
  },
  {
   "cell_type": "markdown",
   "metadata": {
    "heading_collapsed": true
   },
   "source": [
    "### Array Property"
   ]
  },
  {
   "cell_type": "code",
   "execution_count": 31,
   "metadata": {
    "hidden": true
   },
   "outputs": [
    {
     "name": "stdout",
     "output_type": "stream",
     "text": [
      "(2, 4) 8 float64\n"
     ]
    }
   ],
   "source": [
    "A = np.array([[1,2,3,4],[5,6,7,8]]) + 0.1\n",
    "print(A.shape, A.size, A.dtype)"
   ]
  },
  {
   "cell_type": "code",
   "execution_count": 32,
   "metadata": {
    "hidden": true
   },
   "outputs": [
    {
     "data": {
      "text/plain": [
       "array([[1.1+1.1j, 2.1+2.1j, 3.1+3.1j, 4.1+4.1j],\n",
       "       [5.1+5.1j, 6.1+6.1j, 7.1+7.1j, 8.1+8.1j]])"
      ]
     },
     "execution_count": 32,
     "metadata": {},
     "output_type": "execute_result"
    }
   ],
   "source": [
    "A_cplx = A + 1j * A\n",
    "A_cplx"
   ]
  },
  {
   "cell_type": "code",
   "execution_count": 33,
   "metadata": {
    "hidden": true
   },
   "outputs": [
    {
     "data": {
      "text/plain": [
       "array([[1.1+1.1j, 5.1+5.1j],\n",
       "       [2.1+2.1j, 6.1+6.1j],\n",
       "       [3.1+3.1j, 7.1+7.1j],\n",
       "       [4.1+4.1j, 8.1+8.1j]])"
      ]
     },
     "execution_count": 33,
     "metadata": {},
     "output_type": "execute_result"
    }
   ],
   "source": [
    "# Transpose\n",
    "A_cplx.T"
   ]
  },
  {
   "cell_type": "code",
   "execution_count": 34,
   "metadata": {
    "hidden": true
   },
   "outputs": [
    {
     "data": {
      "text/plain": [
       "array([[1.1-1.1j, 2.1-2.1j, 3.1-3.1j, 4.1-4.1j],\n",
       "       [5.1-5.1j, 6.1-6.1j, 7.1-7.1j, 8.1-8.1j]])"
      ]
     },
     "execution_count": 34,
     "metadata": {},
     "output_type": "execute_result"
    }
   ],
   "source": [
    "# Conjugate\n",
    "A_cplx.conj()"
   ]
  },
  {
   "cell_type": "code",
   "execution_count": 35,
   "metadata": {
    "hidden": true
   },
   "outputs": [
    {
     "data": {
      "text/plain": [
       "array([[1, 2, 3, 4],\n",
       "       [5, 6, 7, 8]])"
      ]
     },
     "execution_count": 35,
     "metadata": {},
     "output_type": "execute_result"
    }
   ],
   "source": [
    "# Cast to other data type\n",
    "A.astype(int)"
   ]
  },
  {
   "cell_type": "code",
   "execution_count": 38,
   "metadata": {
    "hidden": true
   },
   "outputs": [
    {
     "data": {
      "text/plain": [
       "array([[1.1, 2.1],\n",
       "       [3.1, 4.1],\n",
       "       [5.1, 6.1],\n",
       "       [7.1, 8.1]])"
      ]
     },
     "execution_count": 38,
     "metadata": {},
     "output_type": "execute_result"
    }
   ],
   "source": [
    "# Reshape\n",
    "A.reshape((4,2))"
   ]
  },
  {
   "cell_type": "code",
   "execution_count": 42,
   "metadata": {
    "hidden": true
   },
   "outputs": [
    {
     "name": "stdout",
     "output_type": "stream",
     "text": [
      "[[1.1 2.1]\n",
      " [3.1 4.1]\n",
      " [5.1 6.1]\n",
      " [7.1 8.1]]\n",
      "[[1.1 2.1]\n",
      " [3.1 4.1]\n",
      " [5.1 6.1]\n",
      " [7.1 8.1]]\n"
     ]
    }
   ],
   "source": [
    "# As long as the rest dimension can be determined, you can just use -1\n",
    "print(A.reshape((-1,2)))\n",
    "print(A.reshape((4,-1)))"
   ]
  },
  {
   "cell_type": "code",
   "execution_count": 36,
   "metadata": {
    "hidden": true
   },
   "outputs": [
    {
     "data": {
      "text/plain": [
       "array([1.1, 2.1, 3.1, 4.1, 5.1, 6.1, 7.1, 8.1])"
      ]
     },
     "execution_count": 36,
     "metadata": {},
     "output_type": "execute_result"
    }
   ],
   "source": [
    "# Reshape to a vector\n",
    "A.reshape(-1)"
   ]
  },
  {
   "cell_type": "markdown",
   "metadata": {},
   "source": [
    "### Array Indexing and Slicing"
   ]
  },
  {
   "cell_type": "code",
   "execution_count": 86,
   "metadata": {},
   "outputs": [
    {
     "data": {
      "text/plain": [
       "array([[ 1,  2,  3,  4,  5],\n",
       "       [ 6,  7,  8,  9, 10],\n",
       "       [11, 12, 13, 14, 15]])"
      ]
     },
     "execution_count": 86,
     "metadata": {},
     "output_type": "execute_result"
    }
   ],
   "source": [
    "A = np.arange(1,16).reshape((3,5))\n",
    "A"
   ]
  },
  {
   "cell_type": "code",
   "execution_count": 91,
   "metadata": {},
   "outputs": [
    {
     "name": "stdout",
     "output_type": "stream",
     "text": [
      "Slice 0-th row return a 1D vector\n",
      "[1 2 3 4 5]\n",
      "Slice last column return a 1D vector\n",
      "[ 5 10 15]\n",
      "Slice 0-th row return a 1D row vector, i.e. keep dimension\n",
      "[[1 2 3 4 5]]\n",
      "Slice last column return a 1D column vector, i.e. keep dimension\n",
      "[[ 5]\n",
      " [10]\n",
      " [15]]\n",
      "Sub-array slicing\n",
      "[[2 3 4]\n",
      " [7 8 9]]\n",
      "Extract entries by subscripts, i.e. entries with subscripts (1,3), (1,4), (2,0)\n",
      "[ 9 10 11]\n",
      "Boolean indexing, i.e. entries has factor 3\n",
      "[ 3  6  9 12 15]\n"
     ]
    }
   ],
   "source": [
    "print('Slice 0-th row return a 1D vector')\n",
    "print(A[0]) # or A[0,:]\n",
    "print('Slice last column return a 1D vector')\n",
    "print(A[:, -1])\n",
    "\n",
    "print('Slice 0-th row return a 1D row vector, i.e. keep dimension')\n",
    "print(A[[0]]) # or A[0,:]\n",
    "print('Slice last column return a 1D column vector, i.e. keep dimension')\n",
    "print(A[:, [-1]])\n",
    "\n",
    "print('Sub-array slicing')\n",
    "print(A[:2, 1:-1])\n",
    "\n",
    "print('Extract entries by subscripts, i.e. entries with subscripts (1,3), (1,4), (2,0)')\n",
    "print(A[[1,1,2], [3,4,0]])\n",
    "\n",
    "print('Boolean indexing, i.e. entries has factor 3')\n",
    "print(A[A%3==0])"
   ]
  },
  {
   "cell_type": "markdown",
   "metadata": {},
   "source": [
    "### Reduction"
   ]
  },
  {
   "cell_type": "code",
   "execution_count": 95,
   "metadata": {},
   "outputs": [
    {
     "name": "stdout",
     "output_type": "stream",
     "text": [
      "sum of whole array\n",
      "120\n",
      "column sums\n",
      "[18 21 24 27 30]\n",
      "row sums\n",
      "[15 40 65]\n",
      "row sums, keep dimension\n",
      "[[15]\n",
      " [40]\n",
      " [65]]\n"
     ]
    }
   ],
   "source": [
    "print('sum of whole array')\n",
    "print(A.sum())\n",
    "print('column sums')\n",
    "print(A.sum(axis=0))\n",
    "print('row sums')\n",
    "print(A.sum(axis=1))\n",
    "print('row sums, keep dimension')\n",
    "print(A.sum(axis=1, keepdims=True))"
   ]
  },
  {
   "cell_type": "code",
   "execution_count": 99,
   "metadata": {},
   "outputs": [
    {
     "name": "stdout",
     "output_type": "stream",
     "text": [
      "[11 12 13 14 15]\n",
      "[ 1  6 11]\n",
      "[[ 66 168 312 504 750]]\n"
     ]
    }
   ],
   "source": [
    "# other reduction\n",
    "print(A.max(axis=0))\n",
    "print(A.min(axis=1))\n",
    "print(np.prod(A, axis=0, keepdims=True))"
   ]
  },
  {
   "cell_type": "markdown",
   "metadata": {},
   "source": [
    "### Broadcasting"
   ]
  },
  {
   "cell_type": "markdown",
   "metadata": {},
   "source": [
    "Broadcasting refers to the set of rules that numpy uses to perfrom operations on arrays with different shapes. \n",
    "Basically when operating with two arrays, one can view this as automatic filling the dummy dimension of one array when two arrays can align the rest dimensions. \n",
    "\n",
    "For detailed explanation, refer to official [documentation](http://docs.scipy.org/doc/numpy-1.10.1/user/basics.broadcasting.html) for a clear explanation of the rules. \n",
    "Array shapes can be manipulated using the `reshape` method or by inserting a new axis with `np.newaxis`. Note that `np.newaxis` is an alias for `None`, which I sometimes use in my examples."
   ]
  },
  {
   "cell_type": "code",
   "execution_count": 101,
   "metadata": {},
   "outputs": [
    {
     "name": "stdout",
     "output_type": "stream",
     "text": [
      "8.0 4.320493798938574\n",
      "[[-1.62018517 -1.38873015 -1.15727512 -0.9258201  -0.69436507]\n",
      " [-0.46291005 -0.23145502  0.          0.23145502  0.46291005]\n",
      " [ 0.69436507  0.9258201   1.15727512  1.38873015  1.62018517]]\n"
     ]
    }
   ],
   "source": [
    "# Normalize data for the whole array\n",
    "print(A.mean(), A.std())\n",
    "print( (A - A.mean()) / A.std() )"
   ]
  },
  {
   "cell_type": "code",
   "execution_count": 104,
   "metadata": {},
   "outputs": [
    {
     "name": "stdout",
     "output_type": "stream",
     "text": [
      "[[-1.22474487 -1.22474487 -1.22474487 -1.22474487 -1.22474487]\n",
      " [ 0.          0.          0.          0.          0.        ]\n",
      " [ 1.22474487  1.22474487  1.22474487  1.22474487  1.22474487]]\n"
     ]
    }
   ],
   "source": [
    "# Normalize data along columns (you can do minus between 3x5 array and length-5 vector)\n",
    "print((A - A.mean(axis=0)) / A.std(axis=0))"
   ]
  },
  {
   "cell_type": "code",
   "execution_count": 109,
   "metadata": {},
   "outputs": [
    {
     "name": "stdout",
     "output_type": "stream",
     "text": [
      "[[14 13 12 11 10]\n",
      " [34 33 32 31 30]\n",
      " [54 53 52 51 50]]\n"
     ]
    }
   ],
   "source": [
    "# Leave-one-out sum along rows (keepdims is necessary, since we are fill the 1-th dimension)\n",
    "print( A.sum(axis=1, keepdims=True) - A )"
   ]
  },
  {
   "cell_type": "markdown",
   "metadata": {},
   "source": [
    "### Example: Calculating pairwise distance matrix using broadcasting and vectorization\n",
    "Calculate the pairwise distance matrix between the following points\n",
    "\n",
    "- (0,0)\n",
    "- (4,0)\n",
    "- (4,3)\n",
    "- (0,3)"
   ]
  },
  {
   "cell_type": "code",
   "execution_count": 115,
   "metadata": {},
   "outputs": [],
   "source": [
    "def distance_matrix_py(pts):\n",
    "    \"\"\"Returns matrix of pairwise Euclidean distances. Pure Python version.\"\"\"\n",
    "    n, p = len(pts), len(pts[0])\n",
    "    m = np.zeros((n, n))\n",
    "    for i in range(n):\n",
    "        for j in range(n):\n",
    "            s = 0\n",
    "            for k in range(p):\n",
    "                s += (pts[i,k] - pts[j,k])**2\n",
    "            m[i, j] = s**0.5\n",
    "    return m"
   ]
  },
  {
   "cell_type": "code",
   "execution_count": 116,
   "metadata": {},
   "outputs": [],
   "source": [
    "def distance_matrix_np(pts):\n",
    "    \"\"\"Returns matrix of pairwise Euclidean distances. Vectorized numpy version.\"\"\"\n",
    "    return np.sum((pts[None,:] - pts[:, None])**2, -1)**0.5"
   ]
  },
  {
   "cell_type": "code",
   "execution_count": 134,
   "metadata": {},
   "outputs": [
    {
     "name": "stdout",
     "output_type": "stream",
     "text": [
      "Fill dummy dimension as first dimension\n",
      "[[[0 0]\n",
      "  [4 0]\n",
      "  [4 3]\n",
      "  [0 3]]] (1, 4, 2)\n",
      "Fill dummy dimension as last dimension\n",
      "[[[0 0]]\n",
      "\n",
      " [[4 0]]\n",
      "\n",
      " [[4 3]]\n",
      "\n",
      " [[0 3]]] (4, 1, 2)\n",
      "Use broadcasting to compute difference, the inner most length-2 array is the difference between points in x,y axis\n",
      "[[[ 0  0]\n",
      "  [ 4  0]\n",
      "  [ 4  3]\n",
      "  [ 0  3]]\n",
      "\n",
      " [[-4  0]\n",
      "  [ 0  0]\n",
      "  [ 0  3]\n",
      "  [-4  3]]\n",
      "\n",
      " [[-4 -3]\n",
      "  [ 0 -3]\n",
      "  [ 0  0]\n",
      "  [-4  0]]\n",
      "\n",
      " [[ 0 -3]\n",
      "  [ 4 -3]\n",
      "  [ 4  0]\n",
      "  [ 0  0]]]\n",
      "Square the array, sum along the last dimension and then take square root\n",
      "[[ 0 16 25  9]\n",
      " [16  0  9 25]\n",
      " [25  9  0 16]\n",
      " [ 9 25 16  0]]\n"
     ]
    }
   ],
   "source": [
    "pts = np.array([(0,0), (4,0), (4,3), (0,3)])\n",
    "print('Fill dummy dimension as first dimension')\n",
    "print(pts[None,:], pts[None,:].shape)\n",
    "print('Fill dummy dimension as last dimension')\n",
    "print(pts[:,None], pts[:,None].shape)\n",
    "print('Use broadcasting to compute difference, the inner most length-2 array is the difference between points in x,y axis')\n",
    "print(pts[None, :] - pts[:, None])\n",
    "print('Square the array, sum along the last dimension and then take square root')\n",
    "print(np.sum((pts[None, :] - pts[:, None])**2, -1))"
   ]
  },
  {
   "cell_type": "code",
   "execution_count": 123,
   "metadata": {},
   "outputs": [
    {
     "name": "stdout",
     "output_type": "stream",
     "text": [
      "[[0. 4. 5. 3.]\n",
      " [4. 0. 3. 5.]\n",
      " [5. 3. 0. 4.]\n",
      " [3. 5. 4. 0.]]\n",
      "[[0. 4. 5. 3.]\n",
      " [4. 0. 3. 5.]\n",
      " [5. 3. 0. 4.]\n",
      " [3. 5. 4. 0.]]\n"
     ]
    }
   ],
   "source": [
    "print(distance_matrix_py(pts))\n",
    "print(distance_matrix_np(pts))"
   ]
  },
  {
   "cell_type": "markdown",
   "metadata": {},
   "source": [
    "### Example: Calculating multiple matrix multiplication using broadcasting and vectorization"
   ]
  },
  {
   "cell_type": "code",
   "execution_count": 135,
   "metadata": {},
   "outputs": [],
   "source": [
    "us = np.random.random((5, 2, 3)) # 5 2x3 matrics\n",
    "vs = np.random.random((5, 3, 4)) # 5 3x4 matrices"
   ]
  },
  {
   "cell_type": "code",
   "execution_count": 142,
   "metadata": {},
   "outputs": [
    {
     "name": "stdout",
     "output_type": "stream",
     "text": [
      "Using for loop\n",
      "[[0.93534795 0.39730992 1.0622624  0.84982193]\n",
      " [0.31139688 0.22760122 0.50960285 0.34707133]] \n",
      "\n",
      "[[1.18930729 0.80529542 0.9461528  0.87379071]\n",
      " [1.18174244 0.72326064 0.69140808 0.69314806]] \n",
      "\n",
      "[[1.54572021 0.91008777 0.58252308 0.49727011]\n",
      " [0.56200891 0.3015458  0.24841023 0.13426202]] \n",
      "\n",
      "[[0.42961897 0.58842677 0.80254569 0.48689598]\n",
      " [0.23214605 0.29441616 0.29991837 0.11379199]] \n",
      "\n",
      "[[0.3625323  0.71432901 0.55369446 0.33852141]\n",
      " [0.7235258  1.5168499  1.075911   0.80366371]] \n",
      "\n",
      "Using broadcasting\n",
      "[[[0.93534795 0.39730992 1.0622624  0.84982193]\n",
      "  [0.31139688 0.22760122 0.50960285 0.34707133]]\n",
      "\n",
      " [[1.18930729 0.80529542 0.9461528  0.87379071]\n",
      "  [1.18174244 0.72326064 0.69140808 0.69314806]]\n",
      "\n",
      " [[1.54572021 0.91008777 0.58252308 0.49727011]\n",
      "  [0.56200891 0.3015458  0.24841023 0.13426202]]\n",
      "\n",
      " [[0.42961897 0.58842677 0.80254569 0.48689598]\n",
      "  [0.23214605 0.29441616 0.29991837 0.11379199]]\n",
      "\n",
      " [[0.3625323  0.71432901 0.55369446 0.33852141]\n",
      "  [0.7235258  1.5168499  1.075911   0.80366371]]]\n"
     ]
    }
   ],
   "source": [
    "print('Using for loop')\n",
    "for u, v in zip(us, vs):\n",
    "    print(u @ v, '\\n')\n",
    "    \n",
    "print('Using broadcasting')\n",
    "print(us @ vs)"
   ]
  },
  {
   "cell_type": "code",
   "execution_count": null,
   "metadata": {},
   "outputs": [],
   "source": []
  }
 ],
 "metadata": {
  "kernelspec": {
   "display_name": "Python 3",
   "language": "python",
   "name": "python3"
  },
  "language_info": {
   "codemirror_mode": {
    "name": "ipython",
    "version": 3
   },
   "file_extension": ".py",
   "mimetype": "text/x-python",
   "name": "python",
   "nbconvert_exporter": "python",
   "pygments_lexer": "ipython3",
   "version": "3.6.4"
  },
  "varInspector": {
   "cols": {
    "lenName": 16,
    "lenType": 16,
    "lenVar": 40
   },
   "kernels_config": {
    "python": {
     "delete_cmd_postfix": "",
     "delete_cmd_prefix": "del ",
     "library": "var_list.py",
     "varRefreshCmd": "print(var_dic_list())"
    },
    "r": {
     "delete_cmd_postfix": ") ",
     "delete_cmd_prefix": "rm(",
     "library": "var_list.r",
     "varRefreshCmd": "cat(var_dic_list()) "
    }
   },
   "types_to_exclude": [
    "module",
    "function",
    "builtin_function_or_method",
    "instance",
    "_Feature"
   ],
   "window_display": false
  }
 },
 "nbformat": 4,
 "nbformat_minor": 2
}
