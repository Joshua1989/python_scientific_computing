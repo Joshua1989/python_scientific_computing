{
 "cells": [
  {
   "cell_type": "markdown",
   "metadata": {},
   "source": [
    "# Object-Oriented Programming"
   ]
  },
  {
   "cell_type": "markdown",
   "metadata": {},
   "source": [
    "As you probably know, Python is an object-oriented language, and so it has very strong support for objects. In fact, everything in Python is an object. \n",
    "\n",
    "Here is the bare minimum about Python objects. "
   ]
  },
  {
   "cell_type": "markdown",
   "metadata": {},
   "source": [
    "## Defining a new class"
   ]
  },
  {
   "cell_type": "markdown",
   "metadata": {},
   "source": [
    "Let's start with a concrete example: polynomials with integer coefficients.\n",
    "\n",
    "We define a class `Polynomial` with two 'special' double underscore methods and one normal method. This class will have an attribute `x` that is specified at the time of creating new instances of the class.\n",
    "\n",
    "- The `__init__` method initializes properties of any new instance of `Polynomial`\n",
    "- The `__repr__` method provides an accurate string representation of `Polynomial`. For example, if we print an instance of `Polynomial`, the `__repr__` method will be used. If you don't specify a `__repr__` (or `__str__`) special method, the default name when printing only gives the address in memory.\n",
    "- The `__repr__` is for displaying the object in the environment, and `__str__` is for printing, they can be defferent.\n",
    "\n",
    "There are many more special methods, as described in the [official documentation](https://docs.python.org/3.5/reference/datamodel.html). We will not go there."
   ]
  },
  {
   "cell_type": "code",
   "execution_count": 1,
   "metadata": {},
   "outputs": [],
   "source": [
    "class Polynomial:\n",
    "    '''\n",
    "        A toy example class of integer-coefficient polynomial\n",
    "        Coefficients are stored in ascending degree, no trailing zeros\n",
    "    '''\n",
    "    def __init__(self, coeff):\n",
    "        nz_pos = np.where(np.array(coeff) != 0)[0]\n",
    "        if len(nz_pos) == 0:\n",
    "            self.coeff = np.array(0, dtype=int)\n",
    "        else:\n",
    "            self.coeff = np.array(coeff[:nz_pos.max()+1], dtype=int) \n",
    "        \n",
    "    def __repr__(self):\n",
    "        return 'Polynomial with coeff {0}'.format(self.coeff.tolist())\n",
    "        \n",
    "    def __str__(self):\n",
    "        if np.all(self.coeff == 0):\n",
    "            return '0'\n",
    "        else:\n",
    "            monomial = lambda c, i: int(c!=0) * '{0}{1}'.format(\n",
    "                str(c) if (c != 1 or i == 0) else '', \n",
    "                'x'*(i>0) + ('^'+str(i))*(i>1) \n",
    "            )\n",
    "            monimials = [monomial(c,i) for i, c in enumerate(self.coeff) if monomial(c,i)]\n",
    "            return ' + '.join([m for m in monimials if m])\n",
    "        \n",
    "    def degree(self):\n",
    "        '''Return the degree of polynomial'''\n",
    "        return self.coeff.size - 1\n",
    "    \n",
    "    def __add__(self, other):\n",
    "        '''Operator Overloading: Add a polynomial or a integer on right'''\n",
    "        if isinstance(other, int):\n",
    "            coeff = self.coeff.copy()\n",
    "            coeff[0] += other\n",
    "        elif isinstance(other, Polynomial):\n",
    "            n = max(self.degree(), other.degree()) + 1\n",
    "            coeff = np.zeros(n, dtype=int)\n",
    "            coeff[:self.degree()+1] += self.coeff\n",
    "            coeff[:other.degree()+1] += other.coeff\n",
    "        else:\n",
    "            return NotImplementedError()\n",
    "        return Polynomial(coeff)\n",
    "    \n",
    "    def __mul__(self, other):\n",
    "        '''Operator Overloading: Multiply a polynomial or a integer on right'''\n",
    "        if isinstance(other, int):\n",
    "            coeff = other * self.coeff\n",
    "        elif isinstance(other, Polynomial):\n",
    "            coeff = np.convolve(self.coeff, other.coeff)\n",
    "        else:\n",
    "            return NotImplementedError()\n",
    "        return Polynomial(coeff)\n",
    "    \n",
    "    def __eq__(self, other):\n",
    "        if isinstance(other, Polynomial):\n",
    "            return np.array_equal(self.coeff, other.coeff)\n",
    "        else:\n",
    "            return NotImplementedError()\n",
    "    \n",
    "    @classmethod\n",
    "    def random(cls, low, high, max_deg):\n",
    "        '''Return a random polynomial with coefficients in [low, high) with degree at most max_deg'''\n",
    "        coeff = np.random.randint(low=low, high=high, size=max_deg+1)\n",
    "        return Polynomial(coeff)"
   ]
  },
  {
   "cell_type": "code",
   "execution_count": 2,
   "metadata": {},
   "outputs": [
    {
     "name": "stdout",
     "output_type": "stream",
     "text": [
      "Help on class Polynomial in module __main__:\n",
      "\n",
      "class Polynomial(builtins.object)\n",
      " |  A toy example class of integer-coefficient polynomial\n",
      " |  Coefficients are stored in ascending degree, no trailing zeros\n",
      " |  \n",
      " |  Methods defined here:\n",
      " |  \n",
      " |  __add__(self, other)\n",
      " |      Operator Overloading: Add a polynomial or a integer on right\n",
      " |  \n",
      " |  __eq__(self, other)\n",
      " |      Return self==value.\n",
      " |  \n",
      " |  __init__(self, coeff)\n",
      " |      Initialize self.  See help(type(self)) for accurate signature.\n",
      " |  \n",
      " |  __mul__(self, other)\n",
      " |      Operator Overloading: Multiply a polynomial or a integer on right\n",
      " |  \n",
      " |  __repr__(self)\n",
      " |      Return repr(self).\n",
      " |  \n",
      " |  __str__(self)\n",
      " |      Return str(self).\n",
      " |  \n",
      " |  degree(self)\n",
      " |      Return the degree of polynomial\n",
      " |  \n",
      " |  ----------------------------------------------------------------------\n",
      " |  Class methods defined here:\n",
      " |  \n",
      " |  random(low, high, max_deg) from builtins.type\n",
      " |      Return a random polynomial with coefficients in [low, high) with degree at most max_deg\n",
      " |  \n",
      " |  ----------------------------------------------------------------------\n",
      " |  Data descriptors defined here:\n",
      " |  \n",
      " |  __dict__\n",
      " |      dictionary for instance variables (if defined)\n",
      " |  \n",
      " |  __weakref__\n",
      " |      list of weak references to the object (if defined)\n",
      " |  \n",
      " |  ----------------------------------------------------------------------\n",
      " |  Data and other attributes defined here:\n",
      " |  \n",
      " |  __hash__ = None\n",
      "\n"
     ]
    }
   ],
   "source": [
    "help(Polynomial)"
   ]
  },
  {
   "cell_type": "markdown",
   "metadata": {},
   "source": [
    "## Creating an instance of class"
   ]
  },
  {
   "cell_type": "code",
   "execution_count": 3,
   "metadata": {},
   "outputs": [],
   "source": [
    "poly1, poly2 = Polynomial([1,2,3]), Polynomial([4,5,6,7])"
   ]
  },
  {
   "cell_type": "markdown",
   "metadata": {},
   "source": [
    "Attribute and Method access"
   ]
  },
  {
   "cell_type": "code",
   "execution_count": 4,
   "metadata": {},
   "outputs": [
    {
     "name": "stdout",
     "output_type": "stream",
     "text": [
      "[1 2 3]\n",
      "1 + 2x + 3x^2 has degree 2\n",
      "4 + 5x + 6x^2 + 7x^3 has degree 3\n"
     ]
    }
   ],
   "source": [
    "print(poly1.coeff)\n",
    "print('{0} has degree {1}'.format(poly1, poly1.degree()))\n",
    "print('{0} has degree {1}'.format(poly2, poly2.degree()))"
   ]
  },
  {
   "cell_type": "markdown",
   "metadata": {},
   "source": [
    "Operator overloading"
   ]
  },
  {
   "cell_type": "code",
   "execution_count": 5,
   "metadata": {},
   "outputs": [
    {
     "name": "stdout",
     "output_type": "stream",
     "text": [
      "sum is 5 + 7x + 9x^2 + 7x^3\n",
      "product is 4 + 13x + 28x^2 + 34x^3 + 32x^4 + 21x^5\n"
     ]
    },
    {
     "data": {
      "text/plain": [
       "True"
      ]
     },
     "execution_count": 5,
     "metadata": {},
     "output_type": "execute_result"
    }
   ],
   "source": [
    "print('sum is {0}'.format(poly1 + poly2))\n",
    "print('product is {0}'.format(poly1 * poly2))\n",
    "poly1 == Polynomial([1,2,3])"
   ]
  },
  {
   "cell_type": "markdown",
   "metadata": {},
   "source": [
    "Class method"
   ]
  },
  {
   "cell_type": "code",
   "execution_count": 6,
   "metadata": {},
   "outputs": [
    {
     "name": "stdout",
     "output_type": "stream",
     "text": [
      "2x + x^2 + x^5\n"
     ]
    }
   ],
   "source": [
    "rand_poly = Polynomial.random(low=0, high=3, max_deg=5)\n",
    "print(rand_poly)"
   ]
  },
  {
   "cell_type": "markdown",
   "metadata": {},
   "source": [
    "## Class Inheritance"
   ]
  },
  {
   "cell_type": "markdown",
   "metadata": {},
   "source": [
    "Custom defined classes are not hashable once `==` operator is overloaded.\n",
    "\n",
    "If `==` is not overloaded, it is hashable but not in your expected way: two polynomials with same coefficients will not be considered equal"
   ]
  },
  {
   "cell_type": "code",
   "execution_count": 7,
   "metadata": {},
   "outputs": [
    {
     "ename": "TypeError",
     "evalue": "unhashable type: 'Polynomial'",
     "output_type": "error",
     "traceback": [
      "\u001b[0;31m---------------------------------------------------------------------------\u001b[0m",
      "\u001b[0;31mTypeError\u001b[0m                                 Traceback (most recent call last)",
      "\u001b[0;32m<ipython-input-7-b5323fada575>\u001b[0m in \u001b[0;36m<module>\u001b[0;34m()\u001b[0m\n\u001b[1;32m      1\u001b[0m \u001b[0mpoly3\u001b[0m \u001b[0;34m=\u001b[0m \u001b[0mPolynomial\u001b[0m\u001b[0;34m(\u001b[0m\u001b[0;34m[\u001b[0m\u001b[0;36m1\u001b[0m\u001b[0;34m,\u001b[0m\u001b[0;36m2\u001b[0m\u001b[0;34m,\u001b[0m\u001b[0;36m3\u001b[0m\u001b[0;34m]\u001b[0m\u001b[0;34m)\u001b[0m\u001b[0;34m\u001b[0m\u001b[0m\n\u001b[0;32m----> 2\u001b[0;31m \u001b[0mset\u001b[0m\u001b[0;34m(\u001b[0m\u001b[0;34m[\u001b[0m\u001b[0mpoly1\u001b[0m\u001b[0;34m,\u001b[0m \u001b[0mpoly2\u001b[0m\u001b[0;34m,\u001b[0m \u001b[0mpoly3\u001b[0m\u001b[0;34m]\u001b[0m\u001b[0;34m)\u001b[0m\u001b[0;34m\u001b[0m\u001b[0m\n\u001b[0m",
      "\u001b[0;31mTypeError\u001b[0m: unhashable type: 'Polynomial'"
     ]
    }
   ],
   "source": [
    "poly3 = Polynomial([1,2,3])\n",
    "set([poly1, poly2, poly3])"
   ]
  },
  {
   "cell_type": "markdown",
   "metadata": {},
   "source": [
    "What if I want to use my customized class as the key of `dict` / in a `set`?\n",
    "\n",
    "Overload the `__hash__` method! Let's make this work by class inheritance."
   ]
  },
  {
   "cell_type": "code",
   "execution_count": 8,
   "metadata": {},
   "outputs": [],
   "source": [
    "class Polynomial_hashable(Polynomial):\n",
    "    '''A hashable polynomial'''\n",
    "    def __hash__(self):\n",
    "        return hash(tuple(self.coeff))"
   ]
  },
  {
   "cell_type": "code",
   "execution_count": 9,
   "metadata": {},
   "outputs": [
    {
     "data": {
      "text/plain": [
       "{Polynomial with coeff [1, 2, 3], Polynomial with coeff [4, 5, 6, 7]}"
      ]
     },
     "execution_count": 9,
     "metadata": {},
     "output_type": "execute_result"
    }
   ],
   "source": [
    "poly1 = Polynomial_hashable([1,2,3])\n",
    "poly2 = Polynomial_hashable([4,5,6,7])\n",
    "poly3 = Polynomial_hashable([1,2,3])\n",
    "set([poly1, poly2, poly3])"
   ]
  },
  {
   "cell_type": "code",
   "execution_count": 12,
   "metadata": {},
   "outputs": [],
   "source": [
    "class P_ary_Polynomial(Polynomial_hashable):\n",
    "    '''Hashable p-ary polynomial'''\n",
    "    def __init__(self, coeff, p):\n",
    "        # Make sure p is a positive integer\n",
    "        self.p = int(p)\n",
    "        assert self.p > 0\n",
    "        coeff = np.mod(np.array(coeff, dtype=int), self.p)\n",
    "        # Call initialization of parent class\n",
    "        super().__init__(coeff)\n",
    "        \n",
    "    def __repr__(self):\n",
    "        return '{0}-ary Polynomial with coeff {1}'.format(self.p, self.coeff.tolist())\n",
    "        \n",
    "    def __add__(self, other):\n",
    "        '''Operator Overloading: Add a polynomial or a integer on right'''\n",
    "        if isinstance(other, int):\n",
    "            coeff = self.coeff.copy()\n",
    "            coeff[0] += other\n",
    "        elif isinstance(self, P_ary_Polynomial) and self.p == other.p:\n",
    "            n = max(self.degree(), other.degree()) + 1\n",
    "            coeff = np.zeros(n, dtype=int)\n",
    "            coeff[:self.degree()+1] += self.coeff\n",
    "            coeff[:other.degree()+1] += other.coeff\n",
    "        elif self.p != other.p:\n",
    "            raise Exception('Cannot operate in different polynomial rings')\n",
    "        else:\n",
    "            return NotImplemented\n",
    "        return P_ary_Polynomial(np.mod(coeff, self.p), self.p)\n",
    "    \n",
    "    def __mul__(self, other):\n",
    "        '''Operator Overloading: Multiply a polynomial or a integer on right'''\n",
    "        if isinstance(other, int):\n",
    "            coeff = other * self.coeff\n",
    "        elif isinstance(self, P_ary_Polynomial) and self.p == other.p:\n",
    "            coeff = np.convolve(self.coeff, other.coeff)\n",
    "        elif self.p != other.p:\n",
    "            raise Exception('Cannot operate in different polynomial rings')\n",
    "        else:\n",
    "            return NotImplemented\n",
    "        return P_ary_Polynomial(np.mod(coeff, self.p), self.p)\n",
    "    \n",
    "    def __eq__(self, other):\n",
    "        if isinstance(self, P_ary_Polynomial):\n",
    "            return np.array_equal(self.coeff, other.coeff) and self.p == other.p\n",
    "        else:\n",
    "            return NotImplemented\n",
    "        \n",
    "    def __hash__(self):\n",
    "        return hash((self.p, tuple(self.coeff)))"
   ]
  },
  {
   "cell_type": "code",
   "execution_count": 13,
   "metadata": {},
   "outputs": [
    {
     "data": {
      "text/plain": [
       "{5-ary Polynomial with coeff [1, 3, 4],\n",
       " 2-ary Polynomial with coeff [1, 1, 0, 1],\n",
       " 2-ary Polynomial with coeff [1, 0, 1],\n",
       " 3-ary Polynomial with coeff [1, 0, 1]}"
      ]
     },
     "execution_count": 13,
     "metadata": {},
     "output_type": "execute_result"
    }
   ],
   "source": [
    "poly1 = P_ary_Polynomial([1,2,3], 2)\n",
    "poly2 = P_ary_Polynomial([3,5,6,7], 2)\n",
    "poly3 = P_ary_Polynomial([1,3,4], 3)\n",
    "poly4 = P_ary_Polynomial([1,3,4], 5)\n",
    "set([poly1, poly2, poly3, poly4])"
   ]
  },
  {
   "cell_type": "markdown",
   "metadata": {},
   "source": [
    "* polynomials with same displayed coefficient but different base are not equal\n",
    "* polynomials with same input coefficient but different base are not equal"
   ]
  },
  {
   "cell_type": "code",
   "execution_count": 14,
   "metadata": {},
   "outputs": [
    {
     "data": {
      "text/plain": [
       "(False, False)"
      ]
     },
     "execution_count": 14,
     "metadata": {},
     "output_type": "execute_result"
    }
   ],
   "source": [
    "poly1 == poly3, poly3 == poly4"
   ]
  },
  {
   "cell_type": "markdown",
   "metadata": {},
   "source": [
    "Polynomials with same base can operate add and multiply"
   ]
  },
  {
   "cell_type": "code",
   "execution_count": 15,
   "metadata": {},
   "outputs": [
    {
     "data": {
      "text/plain": [
       "(2-ary Polynomial with coeff [0, 1, 1, 1],\n",
       " 2-ary Polynomial with coeff [1, 1, 1, 0, 0, 1])"
      ]
     },
     "execution_count": 15,
     "metadata": {},
     "output_type": "execute_result"
    }
   ],
   "source": [
    "poly1 + poly2, poly1 * poly2"
   ]
  },
  {
   "cell_type": "markdown",
   "metadata": {},
   "source": [
    "Polynomials with different bases cannot operate add and multiply"
   ]
  },
  {
   "cell_type": "code",
   "execution_count": 16,
   "metadata": {},
   "outputs": [
    {
     "ename": "Exception",
     "evalue": "Cannot operate in different polynomial rings",
     "output_type": "error",
     "traceback": [
      "\u001b[0;31m---------------------------------------------------------------------------\u001b[0m",
      "\u001b[0;31mException\u001b[0m                                 Traceback (most recent call last)",
      "\u001b[0;32m<ipython-input-16-5079f10a2094>\u001b[0m in \u001b[0;36m<module>\u001b[0;34m()\u001b[0m\n\u001b[0;32m----> 1\u001b[0;31m \u001b[0mpoly1\u001b[0m \u001b[0;34m*\u001b[0m \u001b[0mpoly3\u001b[0m\u001b[0;34m\u001b[0m\u001b[0m\n\u001b[0m",
      "\u001b[0;32m<ipython-input-12-30da7afecc08>\u001b[0m in \u001b[0;36m__mul__\u001b[0;34m(self, other)\u001b[0m\n\u001b[1;32m     35\u001b[0m             \u001b[0mcoeff\u001b[0m \u001b[0;34m=\u001b[0m \u001b[0mnp\u001b[0m\u001b[0;34m.\u001b[0m\u001b[0mconvolve\u001b[0m\u001b[0;34m(\u001b[0m\u001b[0mself\u001b[0m\u001b[0;34m.\u001b[0m\u001b[0mcoeff\u001b[0m\u001b[0;34m,\u001b[0m \u001b[0mother\u001b[0m\u001b[0;34m.\u001b[0m\u001b[0mcoeff\u001b[0m\u001b[0;34m)\u001b[0m\u001b[0;34m\u001b[0m\u001b[0m\n\u001b[1;32m     36\u001b[0m         \u001b[0;32melif\u001b[0m \u001b[0mself\u001b[0m\u001b[0;34m.\u001b[0m\u001b[0mp\u001b[0m \u001b[0;34m!=\u001b[0m \u001b[0mother\u001b[0m\u001b[0;34m.\u001b[0m\u001b[0mp\u001b[0m\u001b[0;34m:\u001b[0m\u001b[0;34m\u001b[0m\u001b[0m\n\u001b[0;32m---> 37\u001b[0;31m             \u001b[0;32mraise\u001b[0m \u001b[0mException\u001b[0m\u001b[0;34m(\u001b[0m\u001b[0;34m'Cannot operate in different polynomial rings'\u001b[0m\u001b[0;34m)\u001b[0m\u001b[0;34m\u001b[0m\u001b[0m\n\u001b[0m\u001b[1;32m     38\u001b[0m         \u001b[0;32melse\u001b[0m\u001b[0;34m:\u001b[0m\u001b[0;34m\u001b[0m\u001b[0m\n\u001b[1;32m     39\u001b[0m             \u001b[0;32mreturn\u001b[0m \u001b[0mNotImplemented\u001b[0m\u001b[0;34m\u001b[0m\u001b[0m\n",
      "\u001b[0;31mException\u001b[0m: Cannot operate in different polynomial rings"
     ]
    }
   ],
   "source": [
    "poly1 * poly3"
   ]
  },
  {
   "cell_type": "code",
   "execution_count": null,
   "metadata": {},
   "outputs": [],
   "source": []
  }
 ],
 "metadata": {
  "kernelspec": {
   "display_name": "Python 3",
   "language": "python",
   "name": "python3"
  },
  "language_info": {
   "codemirror_mode": {
    "name": "ipython",
    "version": 3
   },
   "file_extension": ".py",
   "mimetype": "text/x-python",
   "name": "python",
   "nbconvert_exporter": "python",
   "pygments_lexer": "ipython3",
   "version": "3.6.4"
  },
  "varInspector": {
   "cols": {
    "lenName": 16,
    "lenType": 16,
    "lenVar": 40
   },
   "kernels_config": {
    "python": {
     "delete_cmd_postfix": "",
     "delete_cmd_prefix": "del ",
     "library": "var_list.py",
     "varRefreshCmd": "print(var_dic_list())"
    },
    "r": {
     "delete_cmd_postfix": ") ",
     "delete_cmd_prefix": "rm(",
     "library": "var_list.r",
     "varRefreshCmd": "cat(var_dic_list()) "
    }
   },
   "types_to_exclude": [
    "module",
    "function",
    "builtin_function_or_method",
    "instance",
    "_Feature"
   ],
   "window_display": false
  }
 },
 "nbformat": 4,
 "nbformat_minor": 2
}
