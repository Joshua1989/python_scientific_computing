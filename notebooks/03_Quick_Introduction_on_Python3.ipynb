{
 "cells": [
  {
   "cell_type": "markdown",
   "metadata": {},
   "source": [
    "# Introduction on Python3"
   ]
  },
  {
   "cell_type": "markdown",
   "metadata": {
    "heading_collapsed": true
   },
   "source": [
    "## Hello, world"
   ]
  },
  {
   "cell_type": "code",
   "execution_count": 4,
   "metadata": {
    "hidden": true
   },
   "outputs": [
    {
     "name": "stdout",
     "output_type": "stream",
     "text": [
      "Hello, world\n"
     ]
    }
   ],
   "source": [
    "print('Hello, world')"
   ]
  },
  {
   "cell_type": "markdown",
   "metadata": {
    "heading_collapsed": true
   },
   "source": [
    "## Basic Variable Types"
   ]
  },
  {
   "cell_type": "code",
   "execution_count": 39,
   "metadata": {
    "hidden": true
   },
   "outputs": [
    {
     "data": {
      "text/plain": [
       "(NoneType, None)"
      ]
     },
     "execution_count": 39,
     "metadata": {},
     "output_type": "execute_result"
    }
   ],
   "source": [
    "# None\n",
    "type(None), None"
   ]
  },
  {
   "cell_type": "code",
   "execution_count": 24,
   "metadata": {
    "hidden": true
   },
   "outputs": [
    {
     "data": {
      "text/plain": [
       "(bool, True, False)"
      ]
     },
     "execution_count": 24,
     "metadata": {},
     "output_type": "execute_result"
    }
   ],
   "source": [
    "# Boolean:\n",
    "bool, True, False"
   ]
  },
  {
   "cell_type": "code",
   "execution_count": 25,
   "metadata": {
    "hidden": true
   },
   "outputs": [
    {
     "data": {
      "text/plain": [
       "(int, 1, 23, 3)"
      ]
     },
     "execution_count": 25,
     "metadata": {},
     "output_type": "execute_result"
    }
   ],
   "source": [
    "# Integer\n",
    "int, 1, 23, int(3.14)"
   ]
  },
  {
   "cell_type": "code",
   "execution_count": 26,
   "metadata": {
    "hidden": true
   },
   "outputs": [
    {
     "data": {
      "text/plain": [
       "(float, 1.2, 3.14, 2.0, inf)"
      ]
     },
     "execution_count": 26,
     "metadata": {},
     "output_type": "execute_result"
    }
   ],
   "source": [
    "# Float\n",
    "float, 1.2, 3.14, float(2), float('inf')"
   ]
  },
  {
   "cell_type": "code",
   "execution_count": 27,
   "metadata": {
    "hidden": true
   },
   "outputs": [
    {
     "data": {
      "text/plain": [
       "(complex, (1+2j), 3.14j, (1+0j))"
      ]
     },
     "execution_count": 27,
     "metadata": {},
     "output_type": "execute_result"
    }
   ],
   "source": [
    "# Complex\n",
    "complex, 1+2j, 3.14j, complex(1)"
   ]
  },
  {
   "cell_type": "code",
   "execution_count": 34,
   "metadata": {
    "hidden": true
   },
   "outputs": [
    {
     "data": {
      "text/plain": [
       "(str, 'abc', 'abc', '(1+2j)', 'abc\\ndef\\nghi', '\\\\t')"
      ]
     },
     "execution_count": 34,
     "metadata": {},
     "output_type": "execute_result"
    }
   ],
   "source": [
    "# String\n",
    "(str, 'abc', \"abc\", str(1+2j),\n",
    "\"\"\"abc\n",
    "def\n",
    "ghi\"\"\",\n",
    "r'\\t')"
   ]
  },
  {
   "cell_type": "code",
   "execution_count": 45,
   "metadata": {
    "hidden": true
   },
   "outputs": [
    {
     "name": "stdout",
     "output_type": "stream",
     "text": [
      "[1, 1, 2, 3, 5, 8, 13, 21, 34, 55]\n",
      "[1, 1, 2, 3, 5, 8, 13, 21, 34, 55]\n"
     ]
    },
    {
     "data": {
      "text/plain": [
       "(function, function)"
      ]
     },
     "execution_count": 45,
     "metadata": {},
     "output_type": "execute_result"
    }
   ],
   "source": [
    "# Function\n",
    "def fibnacci(n):\n",
    "    return 1 if n <= 2 else fibnacci(n-1) + fibnacci(n-2)\n",
    "# Inline function\n",
    "fib_inline = lambda n: 1 if n <= 2 else fib_inline(n-1) + fib_inline(n-2)\n",
    "print([fibnacci(x) for x in range(1, 11)])\n",
    "print([fib_inline(x) for x in range(1, 11)])\n",
    "type(fibnacci), type(fib_inline)"
   ]
  },
  {
   "cell_type": "code",
   "execution_count": 12,
   "metadata": {
    "hidden": true
   },
   "outputs": [
    {
     "data": {
      "text/plain": [
       "(tuple, (1, 2, 3), (1,))"
      ]
     },
     "execution_count": 12,
     "metadata": {},
     "output_type": "execute_result"
    }
   ],
   "source": [
    "# Tuple: ordered tuples, cannot modify after creation\n",
    "t1, t2 = (1, 2, 3), (1,)\n",
    "tuple, t1, t2"
   ]
  },
  {
   "cell_type": "code",
   "execution_count": 47,
   "metadata": {
    "hidden": true
   },
   "outputs": [
    {
     "data": {
      "text/plain": [
       "(set, {1, 2, 3}, {2, 3, 4}, {1, 2, 3, 4}, {2, 3}, {1})"
      ]
     },
     "execution_count": 47,
     "metadata": {},
     "output_type": "execute_result"
    }
   ],
   "source": [
    "# Set: unhashable, unordered, no duplicates\n",
    "A, B = {1, 2, 3}, {2, 3, 4}\n",
    "set, A, B, A | B, A & B, A - B"
   ]
  },
  {
   "cell_type": "code",
   "execution_count": 54,
   "metadata": {
    "hidden": true
   },
   "outputs": [
    {
     "data": {
      "text/plain": [
       "(list, [1, 2, 3], ['a', 'b', 'c'], [1, ['nest', ['Array', 3.14]]])"
      ]
     },
     "execution_count": 54,
     "metadata": {},
     "output_type": "execute_result"
    }
   ],
   "source": [
    "# List: unhashable, general array, can be nested\n",
    "L1, L2, L3 = [1, 2, 3], ['a', 'b', 'c'], [1, ['nest', ['Array', 3.14]]]\n",
    "list, L1, L2, L3"
   ]
  },
  {
   "cell_type": "code",
   "execution_count": 55,
   "metadata": {
    "hidden": true
   },
   "outputs": [
    {
     "name": "stdout",
     "output_type": "stream",
     "text": [
      "{'b': 2, 'a': 1}\n",
      "{'c': 3, 'b': 2, 'a': 1}\n",
      "{'c': 3, 'b': 2}\n",
      "{'c': 3, 'b': 99}\n"
     ]
    }
   ],
   "source": [
    "# Dict: unhashable, general hashmap, can be nested\n",
    "D = {'a':1, 'b':2}\n",
    "print(D)\n",
    "D['c'] = 3\n",
    "print(D)\n",
    "del D['a']\n",
    "print(D)\n",
    "D['b'] = 99\n",
    "print(D)"
   ]
  },
  {
   "cell_type": "markdown",
   "metadata": {
    "heading_collapsed": true
   },
   "source": [
    "## Unhashable vs. Hashable"
   ]
  },
  {
   "cell_type": "markdown",
   "metadata": {
    "hidden": true
   },
   "source": [
    "The easies way to see whether a variable is unhashable or not is to check if it can be the key of a `dict`.\n",
    "\n",
    "Python use `id` to determine whether two variables are the same variable, for two varialbes with same values, they are NOT same variable if they have different id.\n",
    "If two variables have same id, modifying one WILL affact the other.\n",
    "\n",
    "Pyhton support nested data type, but in general:\n",
    "* All listed data type except `set`, `list`, `dict` are unhashable if they are unnested.\n",
    "* As long as a nested variable contain `set`, `list`, `dict` component, it is hashable."
   ]
  },
  {
   "cell_type": "code",
   "execution_count": 13,
   "metadata": {
    "hidden": true
   },
   "outputs": [
    {
     "name": "stdout",
     "output_type": "stream",
     "text": [
      "False False False\n",
      "[1, 2] is not hashable\n",
      "hash of (1, 2) is 3713081631934410656\n",
      "(1, [2]) is not hashable\n"
     ]
    }
   ],
   "source": [
    "a1, a2, b1, b2, c1, c2 = [1,2], [1,2], (1,2), (1,2), (1,[2]), (1,[2])\n",
    "print(id(a1) == id(a2), id(b1) == id(b2), id(c1) == id(c2))\n",
    "for x in [a1, b1, c1]:\n",
    "    try:\n",
    "        print('hash of {0} is {1}'.format(x, hash(x)))\n",
    "    except:\n",
    "        print('{0} is not hashable'.format(x))"
   ]
  },
  {
   "cell_type": "markdown",
   "metadata": {
    "heading_collapsed": true
   },
   "source": [
    "## Operators"
   ]
  },
  {
   "cell_type": "code",
   "execution_count": 73,
   "metadata": {
    "hidden": true
   },
   "outputs": [
    {
     "name": "stdout",
     "output_type": "stream",
     "text": [
      "7 + 3 = 10\n",
      "7 - 3 = 4\n",
      "7 * 3 = 21\n",
      "7 ** 3 = 343\n",
      "7 / 3 = 2.3333333333333335\n",
      "7 % 3 = 1\n",
      "7 // 3 = 2\n",
      "7 == 3 = False\n",
      "7 != 3 = True\n",
      "7 > 3 = True\n",
      "7 <= 3 = False\n",
      "2 << 4 = 32\n"
     ]
    }
   ],
   "source": [
    "a, b = 7, 3\n",
    "ops = ['+', '-', '*', '**', '/', '%', '//', '==', '!=', '>', '<=']\n",
    "for op in ops:\n",
    "    cmd = '{0} {1} {2}'.format(a, op, b)\n",
    "    print(cmd, '=', eval(cmd))\n",
    "print('2 << 4', '=', eval('2 << 4'))"
   ]
  },
  {
   "cell_type": "code",
   "execution_count": 74,
   "metadata": {
    "hidden": true
   },
   "outputs": [
    {
     "name": "stdout",
     "output_type": "stream",
     "text": [
      "not True = False\n",
      "True or False = True\n",
      "True | False = True\n",
      "True and False = False\n",
      "False & True = False\n"
     ]
    }
   ],
   "source": [
    "cmds = ['not True', 'True or False', 'True | False', 'True and False', 'False & True']\n",
    "for cmd in cmds:\n",
    "    print(cmd, '=', eval(cmd))"
   ]
  },
  {
   "cell_type": "code",
   "execution_count": 86,
   "metadata": {
    "hidden": true
   },
   "outputs": [
    {
     "name": "stdout",
     "output_type": "stream",
     "text": [
      "id(a) = 4665716296, id(aa) = 4665716296, id(b) = 4665798152\n",
      "a == aa  ==>  True\n",
      "a is aa  ==>  True\n",
      "a == b  ==>  True\n",
      "a is b  ==>  False\n",
      "'cat' in a  ==>  True\n",
      "'fish' in a  ==>  False\n",
      "'fish' not in a  ==>  True\n"
     ]
    }
   ],
   "source": [
    "a = ['cat', 'dog', 'pig', 'cow', 'horse']\n",
    "b = ['cat', 'dog', 'pig', 'cow', 'horse']\n",
    "aa = a\n",
    "# Python use id to see whether two variable are same\n",
    "print(', '.join(['id({0}) = {1}'.format(x, eval('id({})'.format(x))) for x in ['a', 'aa', 'b']]))\n",
    "cmds = ['a == aa', 'a is aa', 'a == b', 'a is b', \"'cat' in a\", \"'fish' in a\", \"'fish' not in a\"]\n",
    "for cmd in cmds:\n",
    "    print(cmd, ' ==> ', eval(cmd))"
   ]
  },
  {
   "cell_type": "markdown",
   "metadata": {
    "collapsed": true,
    "hidden": true
   },
   "source": [
    "### The operator module\n",
    "\n",
    "Provides versions of operators as functions useful for the functional programming style."
   ]
  },
  {
   "cell_type": "code",
   "execution_count": 15,
   "metadata": {
    "hidden": true
   },
   "outputs": [
    {
     "data": {
      "text/plain": [
       "12"
      ]
     },
     "execution_count": 15,
     "metadata": {},
     "output_type": "execute_result"
    }
   ],
   "source": [
    "import operator as op\n",
    "op.mul(3, 4)"
   ]
  },
  {
   "cell_type": "code",
   "execution_count": null,
   "metadata": {
    "collapsed": true,
    "hidden": true
   },
   "outputs": [],
   "source": [
    "import functools\n",
    "# Product of array\n",
    "functools.reduce(op.mul, [2,3,4,5], 1)"
   ]
  },
  {
   "cell_type": "code",
   "execution_count": 140,
   "metadata": {
    "hidden": true
   },
   "outputs": [
    {
     "data": {
      "text/plain": [
       "15"
      ]
     },
     "execution_count": 140,
     "metadata": {},
     "output_type": "execute_result"
    }
   ],
   "source": [
    "L = ['apple', 'banana', 'citrus', 'date', 'elderberry', 'fig', 'grape']\n",
    "# Count total number of vowels in string list\n",
    "functools.reduce(lambda cum, nxt: cum + sum(nxt.count(c) for c in 'aeiou'), L, 0)"
   ]
  },
  {
   "cell_type": "code",
   "execution_count": 142,
   "metadata": {
    "hidden": true
   },
   "outputs": [
    {
     "data": {
      "text/plain": [
       "'pplbnnctrsdtldrbrryfggrp'"
      ]
     },
     "execution_count": 142,
     "metadata": {},
     "output_type": "execute_result"
    }
   ],
   "source": [
    "# Concatenate consonants of string list\n",
    "functools.reduce(lambda cum, nxt: cum + ''.join(filter(lambda c: c not in 'aeiou', nxt)), L, '')"
   ]
  },
  {
   "cell_type": "code",
   "execution_count": 130,
   "metadata": {
    "hidden": true
   },
   "outputs": [],
   "source": [
    "import itertools\n",
    "a, b = [1,2,3,4,5], ['a', 'b', 'c']"
   ]
  },
  {
   "cell_type": "code",
   "execution_count": 131,
   "metadata": {
    "hidden": true
   },
   "outputs": [
    {
     "data": {
      "text/plain": [
       "[(1, 'a'),\n",
       " (1, 'b'),\n",
       " (1, 'c'),\n",
       " (2, 'a'),\n",
       " (2, 'b'),\n",
       " (2, 'c'),\n",
       " (3, 'a'),\n",
       " (3, 'b'),\n",
       " (3, 'c'),\n",
       " (4, 'a'),\n",
       " (4, 'b'),\n",
       " (4, 'c'),\n",
       " (5, 'a'),\n",
       " (5, 'b'),\n",
       " (5, 'c')]"
      ]
     },
     "execution_count": 131,
     "metadata": {},
     "output_type": "execute_result"
    }
   ],
   "source": [
    "list(itertools.product(a, b))"
   ]
  },
  {
   "cell_type": "code",
   "execution_count": 132,
   "metadata": {
    "hidden": true
   },
   "outputs": [
    {
     "data": {
      "text/plain": [
       "[(1, 2, 3),\n",
       " (1, 2, 4),\n",
       " (1, 2, 5),\n",
       " (1, 3, 4),\n",
       " (1, 3, 5),\n",
       " (1, 4, 5),\n",
       " (2, 3, 4),\n",
       " (2, 3, 5),\n",
       " (2, 4, 5),\n",
       " (3, 4, 5)]"
      ]
     },
     "execution_count": 132,
     "metadata": {},
     "output_type": "execute_result"
    }
   ],
   "source": [
    "list(itertools.combinations(a, 3))"
   ]
  },
  {
   "cell_type": "code",
   "execution_count": 137,
   "metadata": {
    "hidden": true
   },
   "outputs": [
    {
     "data": {
      "text/plain": [
       "[('a', 'a', 'a'),\n",
       " ('a', 'a', 'b'),\n",
       " ('a', 'a', 'c'),\n",
       " ('a', 'b', 'b'),\n",
       " ('a', 'b', 'c'),\n",
       " ('a', 'c', 'c'),\n",
       " ('b', 'b', 'b'),\n",
       " ('b', 'b', 'c'),\n",
       " ('b', 'c', 'c'),\n",
       " ('c', 'c', 'c')]"
      ]
     },
     "execution_count": 137,
     "metadata": {},
     "output_type": "execute_result"
    }
   ],
   "source": [
    "list(itertools.combinations_with_replacement(b, 3))"
   ]
  },
  {
   "cell_type": "code",
   "execution_count": 135,
   "metadata": {
    "hidden": true
   },
   "outputs": [
    {
     "data": {
      "text/plain": [
       "[('a', 'b', 'c'),\n",
       " ('a', 'c', 'b'),\n",
       " ('b', 'a', 'c'),\n",
       " ('b', 'c', 'a'),\n",
       " ('c', 'a', 'b'),\n",
       " ('c', 'b', 'a')]"
      ]
     },
     "execution_count": 135,
     "metadata": {},
     "output_type": "execute_result"
    }
   ],
   "source": [
    "list(itertools.permutations(b))"
   ]
  },
  {
   "cell_type": "markdown",
   "metadata": {
    "heading_collapsed": true
   },
   "source": [
    "##  Destructuring assignment"
   ]
  },
  {
   "cell_type": "markdown",
   "metadata": {
    "hidden": true
   },
   "source": [
    "This feature of Python enables programmers to write very compact code"
   ]
  },
  {
   "cell_type": "code",
   "execution_count": 17,
   "metadata": {
    "hidden": true
   },
   "outputs": [
    {
     "data": {
      "text/plain": [
       "(1, 2, 3.14)"
      ]
     },
     "execution_count": 17,
     "metadata": {},
     "output_type": "execute_result"
    }
   ],
   "source": [
    "List = [1,2]\n",
    "(L1, L2), pi = List, 3.14\n",
    "L1, L2, pi"
   ]
  },
  {
   "cell_type": "code",
   "execution_count": 21,
   "metadata": {
    "hidden": true
   },
   "outputs": [
    {
     "data": {
      "text/plain": [
       "(1, [2, 3], 4, 5)"
      ]
     },
     "execution_count": 21,
     "metadata": {},
     "output_type": "execute_result"
    }
   ],
   "source": [
    "List = [1,2,3,4,5]\n",
    "head, *middle, second_last, tail = List\n",
    "head, middle, second_last, tail"
   ]
  },
  {
   "cell_type": "code",
   "execution_count": 28,
   "metadata": {
    "hidden": true
   },
   "outputs": [
    {
     "name": "stdout",
     "output_type": "stream",
     "text": [
      "default  ==>  15\n",
      "input *[3,4,5] changes [a,b,c,d,e] to [3,4,5,4,5]  ==>  21\n",
      "input **{c:1,e:10} changes [a,b,c,d,e] to [1,2,1,4,10]  ==>  18\n"
     ]
    }
   ],
   "source": [
    "def f(a=1, b=2, c=3, d=4, e=5):\n",
    "    return a+b+c+d+e\n",
    "print('default  ==> ', f())\n",
    "print('input *[3,4,5] changes [a,b,c,d,e] to [3,4,5,4,5]  ==> ', f(*[3,4,5]))\n",
    "print('input **{c:1,e:10} changes [a,b,c,d,e] to [1,2,1,4,10]  ==> ', f(**{'c':1,'e':10}))"
   ]
  },
  {
   "cell_type": "markdown",
   "metadata": {
    "heading_collapsed": true
   },
   "source": [
    "## Set Manipulation"
   ]
  },
  {
   "cell_type": "code",
   "execution_count": 32,
   "metadata": {
    "hidden": true
   },
   "outputs": [
    {
     "name": "stdout",
     "output_type": "stream",
     "text": [
      "{1, 2, 3, 4}\n",
      "{1, 2, 3, 4}\n",
      "{1, 2, 3, 4, 5}\n",
      "{1, 2, 3, 5}\n"
     ]
    }
   ],
   "source": [
    "s = {1,1,2,3,4}\n",
    "print(s)\n",
    "s.add(2)\n",
    "print(s)\n",
    "s.add(5)\n",
    "print(s)\n",
    "s.discard(4)\n",
    "print(s)"
   ]
  },
  {
   "cell_type": "code",
   "execution_count": 36,
   "metadata": {
    "hidden": true
   },
   "outputs": [
    {
     "data": {
      "text/plain": [
       "({5}, {5})"
      ]
     },
     "execution_count": 36,
     "metadata": {},
     "output_type": "execute_result"
    }
   ],
   "source": [
    "# Set intersection\n",
    "s & {5,6,7}, s.intersection({5,6,7})"
   ]
  },
  {
   "cell_type": "code",
   "execution_count": 37,
   "metadata": {
    "hidden": true
   },
   "outputs": [
    {
     "data": {
      "text/plain": [
       "({1, 2, 3, 5, 6, 7}, {1, 2, 3, 5, 6, 7})"
      ]
     },
     "execution_count": 37,
     "metadata": {},
     "output_type": "execute_result"
    }
   ],
   "source": [
    "# Set union\n",
    "s | {5,6,7}, s.union({5,6,7})"
   ]
  },
  {
   "cell_type": "code",
   "execution_count": 38,
   "metadata": {
    "hidden": true
   },
   "outputs": [
    {
     "data": {
      "text/plain": [
       "({1, 2, 3}, {1, 2, 3})"
      ]
     },
     "execution_count": 38,
     "metadata": {},
     "output_type": "execute_result"
    }
   ],
   "source": [
    "# Set difference\n",
    "s - {5,6,7}, s.difference({5,6,7})"
   ]
  },
  {
   "cell_type": "code",
   "execution_count": 39,
   "metadata": {
    "hidden": true
   },
   "outputs": [
    {
     "data": {
      "text/plain": [
       "({1, 2, 3, 6, 7}, {1, 2, 3, 6, 7})"
      ]
     },
     "execution_count": 39,
     "metadata": {},
     "output_type": "execute_result"
    }
   ],
   "source": [
    "# Symmetric set difference\n",
    "s ^ {5,6,7}, s.symmetric_difference({5,6,7})"
   ]
  },
  {
   "cell_type": "markdown",
   "metadata": {
    "heading_collapsed": true
   },
   "source": [
    "## List Manipulation"
   ]
  },
  {
   "cell_type": "code",
   "execution_count": 64,
   "metadata": {
    "hidden": true
   },
   "outputs": [
    {
     "name": "stdout",
     "output_type": "stream",
     "text": [
      "[1, 2, 3, 4, 5, 1, 2, 1, 2, 3]\n",
      "False True\n",
      "3\n",
      "2\n",
      "[5, 4, 3, 3, 2, 2, 2, 1, 1, 1] [1, 2, 3, 4, 5, 1, 2, 1, 2, 3]\n",
      "[5, 4, 3, 3, 2, 2, 2, 1, 1, 1]\n"
     ]
    }
   ],
   "source": [
    "x = [1,2,3,4,5,1,2,1,2,3]\n",
    "print(x)\n",
    "# Check if an element is in the list\n",
    "print(9 in x, 1 in x)\n",
    "# Count the occurrence of elements\n",
    "print(x.count(1))\n",
    "# Find the index of first occerence of an element\n",
    "print(x.index(3))\n",
    "# Sort the list from large to small and store to a new variable\n",
    "print(sorted(x, reverse=True), x)\n",
    "# Sort the list from large to small inplace\n",
    "x.sort(reverse=True)\n",
    "print(x)"
   ]
  },
  {
   "cell_type": "markdown",
   "metadata": {
    "hidden": true
   },
   "source": [
    "### List slicing"
   ]
  },
  {
   "cell_type": "code",
   "execution_count": 50,
   "metadata": {
    "hidden": true
   },
   "outputs": [
    {
     "name": "stdout",
     "output_type": "stream",
     "text": [
      "[1, 2, 3, 4, 5, 1, 2, 1, 2, 3]\n",
      "[1, 2, 3, 4, 5, 1, 2]\n",
      "[3, 4, 5, 1, 2, 1, 2, 3]\n",
      "[3, 4, 5, 1, 2]\n",
      "[3, 4, 5, 1, 2, 1]\n",
      "[1, 2, 1, 2, 3]\n",
      "[1, 3, 5, 2, 2]\n",
      "[2, 4, 1, 1, 3]\n",
      "[3, 2, 1, 2, 1, 5, 4, 3, 2, 1]\n"
     ]
    }
   ],
   "source": [
    "# full range\n",
    "print(x[:])\n",
    "# before index 7 (not included)\n",
    "print(x[:7])\n",
    "# after index 2 (included)\n",
    "print(x[2:])\n",
    "# from index 2 (included) to index 7 (not included)\n",
    "print(x[2:7])\n",
    "# from index 2 (included) to the second last (not included)\n",
    "print(x[2:-2])\n",
    "# last 5 elements\n",
    "print(x[-5:])\n",
    "# even indices\n",
    "print(x[::2])\n",
    "# odd indices\n",
    "print(x[1::2])\n",
    "# reverse\n",
    "print(x[::-1])"
   ]
  },
  {
   "cell_type": "markdown",
   "metadata": {
    "hidden": true
   },
   "source": [
    "### Concatenation, Modification, Repetition"
   ]
  },
  {
   "cell_type": "code",
   "execution_count": 56,
   "metadata": {
    "hidden": true
   },
   "outputs": [
    {
     "name": "stdout",
     "output_type": "stream",
     "text": [
      "[1, 2, 3, 4, 5, 6]\n",
      "[1, 2, 3, 1, 2, 3, 1, 2, 3]\n",
      "[1, 2, 3, 11, 12]\n",
      "[1, 2, 3, 11, 12, 21, [100, 101]]\n"
     ]
    }
   ],
   "source": [
    "x1, x2 = [1,2,3], [4,5,6]\n",
    "# Concatenatino\n",
    "print(x1+x2)\n",
    "# Repetition\n",
    "print(x1*3)\n",
    "# Extend the list\n",
    "x1.extend([11,12])\n",
    "print(x1)\n",
    "# Append the list, can be nested!\n",
    "x1.append(21)\n",
    "x1.append([100,101])\n",
    "print(x1)"
   ]
  },
  {
   "cell_type": "markdown",
   "metadata": {
    "hidden": true
   },
   "source": [
    "When you initialize a nested list as a 2D array, you must be careful"
   ]
  },
  {
   "cell_type": "code",
   "execution_count": 66,
   "metadata": {
    "hidden": true
   },
   "outputs": [
    {
     "name": "stdout",
     "output_type": "stream",
     "text": [
      "[[1, 0, 0, 0, 0], [1, 0, 0, 0, 0], [1, 0, 0, 0, 0]]\n",
      "[[1, 0, 0, 0, 0], [0, 0, 0, 0, 0], [0, 0, 0, 0, 0]]\n"
     ]
    }
   ],
   "source": [
    "# Initialize a 3*5 all-zero 2D array\n",
    "X1 = [[0]*5]*3 # Wrong, the inner loop is shallow copied\n",
    "X2 = [[0]*5 for _ in range(3)] # Correct, create new list for inner loop\n",
    "X1[0][0], X2[0][0] = 1, 1\n",
    "print(X1)\n",
    "print(X2)"
   ]
  },
  {
   "cell_type": "markdown",
   "metadata": {
    "hidden": true
   },
   "source": [
    "### List Comprehension"
   ]
  },
  {
   "cell_type": "markdown",
   "metadata": {
    "hidden": true
   },
   "source": [
    "The format is\n",
    "```\n",
    "[ mapping(x) for x in iterator if filter(x) ]\n",
    "```"
   ]
  },
  {
   "cell_type": "markdown",
   "metadata": {
    "hidden": true
   },
   "source": [
    "The list of squares of all integers that are smaller than 20, and is multiple of 3"
   ]
  },
  {
   "cell_type": "code",
   "execution_count": 67,
   "metadata": {
    "hidden": true
   },
   "outputs": [
    {
     "data": {
      "text/plain": [
       "[0, 9, 36, 81, 144, 225, 324]"
      ]
     },
     "execution_count": 67,
     "metadata": {},
     "output_type": "execute_result"
    }
   ],
   "source": [
    "[x**2 for x in range(20) if x % 3 == 0]"
   ]
  },
  {
   "cell_type": "markdown",
   "metadata": {
    "hidden": true
   },
   "source": [
    "The list of positive integer (x,y) pairs such that 1 < x < 20 and 1 < y < 20 and x is multiple of y^2"
   ]
  },
  {
   "cell_type": "code",
   "execution_count": 73,
   "metadata": {
    "hidden": true,
    "scrolled": true
   },
   "outputs": [
    {
     "data": {
      "text/plain": [
       "[(4, 2), (8, 2), (9, 3), (12, 2), (16, 2), (16, 4), (18, 3)]"
      ]
     },
     "execution_count": 73,
     "metadata": {},
     "output_type": "execute_result"
    }
   ],
   "source": [
    "[(x,y) for x in range(2, 20) for y in range(2, 20) if x % y**2 == 0]"
   ]
  },
  {
   "cell_type": "markdown",
   "metadata": {
    "collapsed": true,
    "heading_collapsed": true
   },
   "source": [
    "## Dict Manipulation"
   ]
  },
  {
   "cell_type": "code",
   "execution_count": 35,
   "metadata": {
    "code_folding": [],
    "hidden": true
   },
   "outputs": [
    {
     "data": {
      "text/plain": [
       "({'a': 1, 'b': 2, 'c': 3, 'd': -1}, {'d': 4, 'e': 5, 'f': 6})"
      ]
     },
     "execution_count": 35,
     "metadata": {},
     "output_type": "execute_result"
    }
   ],
   "source": [
    "d = {'a': 1, 'b': 2, 'c':3, 'd': -1}\n",
    "d1 = dict(d=4, e=5, f=6)\n",
    "d, d1"
   ]
  },
  {
   "cell_type": "code",
   "execution_count": 36,
   "metadata": {
    "hidden": true
   },
   "outputs": [
    {
     "data": {
      "text/plain": [
       "(['b', 'c', 'a', 'd'],\n",
       " [2, 3, 1, -1],\n",
       " [('b', 2), ('c', 3), ('a', 1), ('d', -1)])"
      ]
     },
     "execution_count": 36,
     "metadata": {},
     "output_type": "execute_result"
    }
   ],
   "source": [
    "# Notice the order may be different from how we construct the dict\n",
    "list(d.keys()), list(d.values()), list(d.items())"
   ]
  },
  {
   "cell_type": "markdown",
   "metadata": {
    "hidden": true
   },
   "source": [
    "### Get Item"
   ]
  },
  {
   "cell_type": "code",
   "execution_count": 37,
   "metadata": {
    "hidden": true
   },
   "outputs": [
    {
     "data": {
      "text/plain": [
       "2"
      ]
     },
     "execution_count": 37,
     "metadata": {},
     "output_type": "execute_result"
    }
   ],
   "source": [
    "# Get a dict value by key\n",
    "d['b']"
   ]
  },
  {
   "cell_type": "code",
   "execution_count": 38,
   "metadata": {
    "hidden": true
   },
   "outputs": [
    {
     "ename": "KeyError",
     "evalue": "'x'",
     "output_type": "error",
     "traceback": [
      "\u001b[0;31m---------------------------------------------------------------------------\u001b[0m",
      "\u001b[0;31mKeyError\u001b[0m                                  Traceback (most recent call last)",
      "\u001b[0;32m<ipython-input-38-a660adf435e3>\u001b[0m in \u001b[0;36m<module>\u001b[0;34m()\u001b[0m\n\u001b[1;32m      1\u001b[0m \u001b[0;31m# If the key is not in dict, an error will prompt\u001b[0m\u001b[0;34m\u001b[0m\u001b[0;34m\u001b[0m\u001b[0m\n\u001b[0;32m----> 2\u001b[0;31m \u001b[0md\u001b[0m\u001b[0;34m[\u001b[0m\u001b[0;34m'x'\u001b[0m\u001b[0;34m]\u001b[0m\u001b[0;34m\u001b[0m\u001b[0m\n\u001b[0m",
      "\u001b[0;31mKeyError\u001b[0m: 'x'"
     ]
    }
   ],
   "source": [
    "# If the key is not in dict, an error will prompt\n",
    "d['x']"
   ]
  },
  {
   "cell_type": "code",
   "execution_count": 39,
   "metadata": {
    "hidden": true
   },
   "outputs": [
    {
     "data": {
      "text/plain": [
       "(2, None, 'default value')"
      ]
     },
     "execution_count": 39,
     "metadata": {},
     "output_type": "execute_result"
    }
   ],
   "source": [
    "# use get by setting an default value to avoid error\n",
    "d.get('b'), d.get('x'), d.get('x','default value')"
   ]
  },
  {
   "cell_type": "markdown",
   "metadata": {
    "hidden": true
   },
   "source": [
    "### Set Item, Delete Item, Merge Dicts"
   ]
  },
  {
   "cell_type": "code",
   "execution_count": 40,
   "metadata": {
    "hidden": true
   },
   "outputs": [
    {
     "data": {
      "text/plain": [
       "{'a': 1, 'b': 99, 'c': 3, 'd': -1}"
      ]
     },
     "execution_count": 40,
     "metadata": {},
     "output_type": "execute_result"
    }
   ],
   "source": [
    "# Set/Overwrite dict value\n",
    "d['b'] = 99\n",
    "d"
   ]
  },
  {
   "cell_type": "code",
   "execution_count": 41,
   "metadata": {
    "hidden": true
   },
   "outputs": [
    {
     "data": {
      "text/plain": [
       "{'b': 99, 'c': 3, 'd': -1}"
      ]
     },
     "execution_count": 41,
     "metadata": {},
     "output_type": "execute_result"
    }
   ],
   "source": [
    "del d['a']\n",
    "d"
   ]
  },
  {
   "cell_type": "code",
   "execution_count": 42,
   "metadata": {
    "hidden": true
   },
   "outputs": [
    {
     "data": {
      "text/plain": [
       "{'b': 99, 'c': 3, 'd': 4, 'e': 5, 'f': 6}"
      ]
     },
     "execution_count": 42,
     "metadata": {},
     "output_type": "execute_result"
    }
   ],
   "source": [
    "# Merge to dict\n",
    "# If a key occurs more than once, it will be overwrited as the lastest value\n",
    "d.update(d1)\n",
    "d # Here d['d'] is not -1 but 4"
   ]
  },
  {
   "cell_type": "markdown",
   "metadata": {
    "hidden": true
   },
   "source": [
    "### Dict Comprehension"
   ]
  },
  {
   "cell_type": "markdown",
   "metadata": {
    "hidden": true
   },
   "source": [
    "The format is\n",
    "```\n",
    "{ key(x):val(x) for x in iterator if filter(x) }\n",
    "```"
   ]
  },
  {
   "cell_type": "markdown",
   "metadata": {
    "hidden": true
   },
   "source": [
    "The dict whose keys are positive integer (x,y) pairs such that 1 < x < 20 and 1 < y < 20 and x is multiple of y^2, and the corresponding value is x + y"
   ]
  },
  {
   "cell_type": "code",
   "execution_count": 43,
   "metadata": {
    "hidden": true
   },
   "outputs": [
    {
     "data": {
      "text/plain": [
       "{(4, 2): 6,\n",
       " (8, 2): 10,\n",
       " (9, 3): 12,\n",
       " (12, 2): 14,\n",
       " (16, 2): 18,\n",
       " (16, 4): 20,\n",
       " (18, 3): 21}"
      ]
     },
     "execution_count": 43,
     "metadata": {},
     "output_type": "execute_result"
    }
   ],
   "source": [
    "{(x,y): x+y for x in range(2, 20) for y in range(2, 20) if x % y**2 == 0}"
   ]
  },
  {
   "cell_type": "markdown",
   "metadata": {
    "hidden": true
   },
   "source": [
    "### Dict Variants"
   ]
  },
  {
   "cell_type": "code",
   "execution_count": 57,
   "metadata": {
    "hidden": true
   },
   "outputs": [
    {
     "name": "stdout",
     "output_type": "stream",
     "text": [
      "b 2\n",
      "c 3\n",
      "a 1\n"
     ]
    }
   ],
   "source": [
    "d = {}\n",
    "key_val = [('a', 1), ('b', 2), ('c', 3)]\n",
    "for k, v in key_val: \n",
    "    d[k] = v\n",
    "for k, v in d.items():\n",
    "    print(k, v)"
   ]
  },
  {
   "cell_type": "code",
   "execution_count": 58,
   "metadata": {
    "hidden": true
   },
   "outputs": [
    {
     "name": "stdout",
     "output_type": "stream",
     "text": [
      "a 1\n",
      "b 2\n",
      "c 3\n"
     ]
    }
   ],
   "source": [
    "import collections\n",
    "d = collections.OrderedDict()\n",
    "for k, v in key_val: \n",
    "    d[k] = v\n",
    "for k, v in d.items():\n",
    "    print(k, v)"
   ]
  },
  {
   "cell_type": "code",
   "execution_count": 60,
   "metadata": {
    "hidden": true
   },
   "outputs": [
    {
     "name": "stdout",
     "output_type": "stream",
     "text": [
      "b [2]\n",
      "c [3]\n",
      "a [1, 1, 2]\n"
     ]
    }
   ],
   "source": [
    "d = collections.defaultdict(list)\n",
    "key_ele = [('a', 1), ('a', 1), ('a', 2), ('b', 2), ('c', 3)]\n",
    "for k, e in key_ele: \n",
    "    d[k].append(e)\n",
    "for k, v in d.items():\n",
    "    print(k, v)"
   ]
  },
  {
   "cell_type": "markdown",
   "metadata": {
    "hidden": true
   },
   "source": [
    "What if I want ordered, default, dict? Create your own!"
   ]
  },
  {
   "cell_type": "code",
   "execution_count": 61,
   "metadata": {
    "code_folding": [
     2
    ],
    "collapsed": true,
    "hidden": true
   },
   "outputs": [],
   "source": [
    "from collections import OrderedDict, Callable\n",
    "\n",
    "class DefaultOrderedDict(OrderedDict):\n",
    "    # Source: http://stackoverflow.com/a/6190500/562769\n",
    "    def __init__(self, default_factory=None, *a, **kw):\n",
    "        if (default_factory is not None and\n",
    "           not isinstance(default_factory, Callable)):\n",
    "            raise TypeError('first argument must be callable')\n",
    "        OrderedDict.__init__(self, *a, **kw)\n",
    "        self.default_factory = default_factory\n",
    "\n",
    "    def __getitem__(self, key):\n",
    "        try:\n",
    "            return OrderedDict.__getitem__(self, key)\n",
    "        except KeyError:\n",
    "            return self.__missing__(key)\n",
    "\n",
    "    def __missing__(self, key):\n",
    "        if self.default_factory is None:\n",
    "            raise KeyError(key)\n",
    "        self[key] = value = self.default_factory()\n",
    "        return value\n",
    "\n",
    "    def __reduce__(self):\n",
    "        if self.default_factory is None:\n",
    "            args = tuple()\n",
    "        else:\n",
    "            args = self.default_factory,\n",
    "        return type(self), args, None, None, self.items()\n",
    "\n",
    "    def copy(self):\n",
    "        return self.__copy__()\n",
    "\n",
    "    def __copy__(self):\n",
    "        return type(self)(self.default_factory, self)\n",
    "\n",
    "    def __deepcopy__(self, memo):\n",
    "        import copy\n",
    "        return type(self)(self.default_factory,\n",
    "                          copy.deepcopy(self.items()))\n",
    "\n",
    "    def __repr__(self):\n",
    "        return 'OrderedDefaultDict(%s, %s)' % (self.default_factory,\n",
    "                                               OrderedDict.__repr__(self))"
   ]
  },
  {
   "cell_type": "code",
   "execution_count": 62,
   "metadata": {
    "hidden": true
   },
   "outputs": [
    {
     "name": "stdout",
     "output_type": "stream",
     "text": [
      "a [1, 1, 2]\n",
      "b [2]\n",
      "c [3]\n"
     ]
    }
   ],
   "source": [
    "d = DefaultOrderedDict(list)\n",
    "for k, e in key_ele: \n",
    "    d[k].append(e)\n",
    "for k, v in d.items():\n",
    "    print(k, v)"
   ]
  },
  {
   "cell_type": "markdown",
   "metadata": {
    "hidden": true
   },
   "source": [
    "### Example: Word counter"
   ]
  },
  {
   "cell_type": "code",
   "execution_count": 63,
   "metadata": {
    "collapsed": true,
    "hidden": true
   },
   "outputs": [],
   "source": [
    "jabberwocky = '''\n",
    "’Twas brillig, and the slithy toves\n",
    "      Did gyre and gimble in the wabe:\n",
    "All mimsy were the borogoves,\n",
    "      And the mome raths outgrabe.\n",
    "\n",
    "“Beware the Jabberwock, my son!\n",
    "      The jaws that bite, the claws that catch!\n",
    "Beware the Jubjub bird, and shun\n",
    "      The frumious Bandersnatch!”\n",
    "\n",
    "He took his vorpal sword in hand;\n",
    "      Long time the manxome foe he sought—\n",
    "So rested he by the Tumtum tree\n",
    "      And stood awhile in thought.\n",
    "\n",
    "And, as in uffish thought he stood,\n",
    "      The Jabberwock, with eyes of flame,\n",
    "Came whiffling through the tulgey wood,\n",
    "      And burbled as it came!\n",
    "\n",
    "One, two! One, two! And through and through\n",
    "      The vorpal blade went snicker-snack!\n",
    "He left it dead, and with its head\n",
    "      He went galumphing back.\n",
    "\n",
    "“And hast thou slain the Jabberwock?\n",
    "      Come to my arms, my beamish boy!\n",
    "O frabjous day! Callooh! Callay!”\n",
    "      He chortled in his joy.\n",
    "\n",
    "’Twas brillig, and the slithy toves\n",
    "      Did gyre and gimble in the wabe:\n",
    "All mimsy were the borogoves,\n",
    "      And the mome raths outgrabe.\n",
    "'''"
   ]
  },
  {
   "cell_type": "markdown",
   "metadata": {
    "hidden": true
   },
   "source": [
    "#### Using regular dictionary"
   ]
  },
  {
   "cell_type": "code",
   "execution_count": 65,
   "metadata": {
    "hidden": true
   },
   "outputs": [
    {
     "data": {
      "text/plain": [
       "2"
      ]
     },
     "execution_count": 65,
     "metadata": {},
     "output_type": "execute_result"
    }
   ],
   "source": [
    "c1 = {}\n",
    "for word in jabberwocky.split():\n",
    "    c1[word] = c1.get(word, 0) + 1\n",
    "c1['vorpal']"
   ]
  },
  {
   "cell_type": "markdown",
   "metadata": {
    "hidden": true
   },
   "source": [
    "#### Using defaultdict with int factory"
   ]
  },
  {
   "cell_type": "code",
   "execution_count": 66,
   "metadata": {
    "hidden": true
   },
   "outputs": [
    {
     "data": {
      "text/plain": [
       "2"
      ]
     },
     "execution_count": 66,
     "metadata": {},
     "output_type": "execute_result"
    }
   ],
   "source": [
    "c2 = collections.defaultdict(int)\n",
    "for word in jabberwocky.split():\n",
    "    c2[word] += 1\n",
    "c2['vorpal']"
   ]
  },
  {
   "cell_type": "markdown",
   "metadata": {
    "hidden": true
   },
   "source": [
    "#### Using Counter"
   ]
  },
  {
   "cell_type": "code",
   "execution_count": 68,
   "metadata": {
    "hidden": true
   },
   "outputs": [
    {
     "data": {
      "text/plain": [
       "2"
      ]
     },
     "execution_count": 68,
     "metadata": {},
     "output_type": "execute_result"
    }
   ],
   "source": [
    "c3 = collections.Counter(jabberwocky.split())\n",
    "c3['vorpal']"
   ]
  },
  {
   "cell_type": "markdown",
   "metadata": {
    "heading_collapsed": true
   },
   "source": [
    "## Control Structures"
   ]
  },
  {
   "cell_type": "markdown",
   "metadata": {
    "hidden": true
   },
   "source": [
    "### Condition: if-elif-else"
   ]
  },
  {
   "cell_type": "code",
   "execution_count": 69,
   "metadata": {
    "hidden": true
   },
   "outputs": [
    {
     "data": {
      "text/plain": [
       "(-1, 0, 1)"
      ]
     },
     "execution_count": 69,
     "metadata": {},
     "output_type": "execute_result"
    }
   ],
   "source": [
    "def sign(x):\n",
    "    if x > 0:\n",
    "        return 1\n",
    "    elif x < 0:\n",
    "        return -1\n",
    "    else:\n",
    "        return 0\n",
    "sign(-2), sign(0), sign(3)"
   ]
  },
  {
   "cell_type": "markdown",
   "metadata": {
    "hidden": true
   },
   "source": [
    "There is no ternary condition operation like\n",
    "```\n",
    "condition ? case1 : case2\n",
    "```\n",
    "But one can use inline if-else to achieve this\n",
    "```\n",
    "case1 if condition else case2\n",
    "```"
   ]
  },
  {
   "cell_type": "code",
   "execution_count": 70,
   "metadata": {
    "hidden": true
   },
   "outputs": [
    {
     "data": {
      "text/plain": [
       "(-1, 0, 1)"
      ]
     },
     "execution_count": 70,
     "metadata": {},
     "output_type": "execute_result"
    }
   ],
   "source": [
    "sign = lambda x: 1 if x > 0 else (-1 if x < 0 else 0)\n",
    "sign(-2), sign(0), sign(3)"
   ]
  },
  {
   "cell_type": "markdown",
   "metadata": {
    "hidden": true
   },
   "source": [
    "### Loop: for / while / continue / break"
   ]
  },
  {
   "cell_type": "code",
   "execution_count": 71,
   "metadata": {
    "hidden": true
   },
   "outputs": [
    {
     "name": "stdout",
     "output_type": "stream",
     "text": [
      "1\n",
      "3\n"
     ]
    }
   ],
   "source": [
    "for i in range(5):\n",
    "    if i % 2 == 0: \n",
    "        continue\n",
    "    print(i)"
   ]
  },
  {
   "cell_type": "code",
   "execution_count": 73,
   "metadata": {
    "hidden": true
   },
   "outputs": [
    {
     "name": "stdout",
     "output_type": "stream",
     "text": [
      "1\n",
      "2\n",
      "3\n",
      "4\n"
     ]
    }
   ],
   "source": [
    "i = 1\n",
    "while i < 10:\n",
    "    print(i)\n",
    "    i += 1\n",
    "    if i == 5:\n",
    "        break"
   ]
  },
  {
   "cell_type": "markdown",
   "metadata": {
    "hidden": true
   },
   "source": [
    "### Error Handling: try-except-else-finally / assert / raise"
   ]
  },
  {
   "cell_type": "code",
   "execution_count": 99,
   "metadata": {
    "hidden": true,
    "scrolled": true
   },
   "outputs": [
    {
     "name": "stdout",
     "output_type": "stream",
     "text": [
      "trying to divide <class 'int'> 2 by <class 'int'> 1\n",
      "result is 2.0\n",
      "function come to the end\n",
      "\n",
      "trying to divide <class 'int'> 2 by <class 'int'> 0\n",
      "division by zero!\n",
      "function come to the end\n",
      "\n",
      "trying to divide <class 'int'> -2 by <class 'int'> 1\n",
      "x = -2 violate the assert that x > 0\n",
      "function come to the end\n",
      "\n",
      "trying to divide <class 'str'> 2 by <class 'int'> 1\n",
      "other exception: <class 'TypeError'> unorderable types: str() > int()\n",
      "function come to the end\n",
      "\n"
     ]
    },
    {
     "ename": "Exception",
     "evalue": "y = -1 violate the constraint that y >= 0",
     "output_type": "error",
     "traceback": [
      "\u001b[0;31m---------------------------------------------------------------------------\u001b[0m",
      "\u001b[0;31mException\u001b[0m                                 Traceback (most recent call last)",
      "\u001b[0;32m<ipython-input-99-95bfbba3cd0b>\u001b[0m in \u001b[0;36m<module>\u001b[0;34m()\u001b[0m\n\u001b[1;32m     20\u001b[0m \u001b[0mdivide_positive\u001b[0m\u001b[0;34m(\u001b[0m\u001b[0;34m-\u001b[0m\u001b[0;36m2\u001b[0m\u001b[0;34m,\u001b[0m \u001b[0;36m1\u001b[0m\u001b[0;34m)\u001b[0m\u001b[0;34m\u001b[0m\u001b[0m\n\u001b[1;32m     21\u001b[0m \u001b[0mdivide_positive\u001b[0m\u001b[0;34m(\u001b[0m\u001b[0;34m\"2\"\u001b[0m\u001b[0;34m,\u001b[0m \u001b[0;36m1\u001b[0m\u001b[0;34m)\u001b[0m\u001b[0;34m\u001b[0m\u001b[0m\n\u001b[0;32m---> 22\u001b[0;31m \u001b[0mdivide_positive\u001b[0m\u001b[0;34m(\u001b[0m\u001b[0;36m2\u001b[0m\u001b[0;34m,\u001b[0m \u001b[0;34m-\u001b[0m\u001b[0;36m1\u001b[0m\u001b[0;34m)\u001b[0m\u001b[0;34m\u001b[0m\u001b[0m\n\u001b[0m",
      "\u001b[0;32m<ipython-input-99-95bfbba3cd0b>\u001b[0m in \u001b[0;36mdivide_positive\u001b[0;34m(x, y)\u001b[0m\n\u001b[1;32m      1\u001b[0m \u001b[0;32mdef\u001b[0m \u001b[0mdivide_positive\u001b[0m\u001b[0;34m(\u001b[0m\u001b[0mx\u001b[0m\u001b[0;34m,\u001b[0m \u001b[0my\u001b[0m\u001b[0;34m)\u001b[0m\u001b[0;34m:\u001b[0m\u001b[0;34m\u001b[0m\u001b[0m\n\u001b[1;32m      2\u001b[0m     \u001b[0;32mif\u001b[0m \u001b[0my\u001b[0m \u001b[0;34m<\u001b[0m \u001b[0;36m0\u001b[0m\u001b[0;34m:\u001b[0m\u001b[0;34m\u001b[0m\u001b[0m\n\u001b[0;32m----> 3\u001b[0;31m         \u001b[0;32mraise\u001b[0m \u001b[0mException\u001b[0m\u001b[0;34m(\u001b[0m\u001b[0;34m'y = {0} violate the constraint that y >= 0'\u001b[0m\u001b[0;34m.\u001b[0m\u001b[0mformat\u001b[0m\u001b[0;34m(\u001b[0m\u001b[0my\u001b[0m\u001b[0;34m)\u001b[0m\u001b[0;34m)\u001b[0m\u001b[0;34m\u001b[0m\u001b[0m\n\u001b[0m\u001b[1;32m      4\u001b[0m     \u001b[0mprint\u001b[0m\u001b[0;34m(\u001b[0m\u001b[0;34m'trying to divide {0} {1} by {2} {3}'\u001b[0m\u001b[0;34m.\u001b[0m\u001b[0mformat\u001b[0m\u001b[0;34m(\u001b[0m\u001b[0mtype\u001b[0m\u001b[0;34m(\u001b[0m\u001b[0mx\u001b[0m\u001b[0;34m)\u001b[0m\u001b[0;34m,\u001b[0m \u001b[0mx\u001b[0m\u001b[0;34m,\u001b[0m \u001b[0mtype\u001b[0m\u001b[0;34m(\u001b[0m\u001b[0my\u001b[0m\u001b[0;34m)\u001b[0m\u001b[0;34m,\u001b[0m \u001b[0my\u001b[0m\u001b[0;34m)\u001b[0m\u001b[0;34m)\u001b[0m\u001b[0;34m\u001b[0m\u001b[0m\n\u001b[1;32m      5\u001b[0m     \u001b[0;32mtry\u001b[0m\u001b[0;34m:\u001b[0m\u001b[0;34m\u001b[0m\u001b[0m\n",
      "\u001b[0;31mException\u001b[0m: y = -1 violate the constraint that y >= 0"
     ]
    }
   ],
   "source": [
    "def divide_positive(x, y):\n",
    "    if y < 0:\n",
    "        raise Exception('y = {0} violate the constraint that y >= 0'.format(y))\n",
    "    print('trying to divide {0} {1} by {2} {3}'.format(type(x), x, type(y), y))\n",
    "    try:\n",
    "        assert x > 0\n",
    "        result = x / y\n",
    "    except ZeroDivisionError:\n",
    "        print(\"division by zero!\")\n",
    "    except AssertionError:\n",
    "        print('x = {0} violate the assert that x > 0'.format(x))\n",
    "    except Exception as err:\n",
    "        print('other exception:', type(err), err)\n",
    "    else:\n",
    "        print('result is', result)\n",
    "    finally:\n",
    "        print(\"function come to the end\\n\")\n",
    "divide_positive(2, 1)\n",
    "divide_positive(2, 0)\n",
    "divide_positive(-2, 1)\n",
    "divide_positive(\"2\", 1)\n",
    "divide_positive(2, -1)"
   ]
  },
  {
   "cell_type": "markdown",
   "metadata": {
    "hidden": true
   },
   "source": [
    "### Null Placeholder: Pass"
   ]
  },
  {
   "cell_type": "code",
   "execution_count": 101,
   "metadata": {
    "hidden": true
   },
   "outputs": [
    {
     "data": {
      "text/plain": [
       "(None, 0.5)"
      ]
     },
     "execution_count": 101,
     "metadata": {},
     "output_type": "execute_result"
    }
   ],
   "source": [
    "def divide(x, y):\n",
    "    try:\n",
    "        return x / y\n",
    "    except:\n",
    "        pass\n",
    "divide(1,0), divide(1,2)"
   ]
  },
  {
   "cell_type": "markdown",
   "metadata": {
    "heading_collapsed": true
   },
   "source": [
    "## Built-in Methods"
   ]
  },
  {
   "cell_type": "code",
   "execution_count": 114,
   "metadata": {
    "hidden": true
   },
   "outputs": [
    {
     "data": {
      "text/plain": [
       "(True, True)"
      ]
     },
     "execution_count": 114,
     "metadata": {},
     "output_type": "execute_result"
    }
   ],
   "source": [
    "L = ['apple', 'banana', 'citrus', 'date', 'elderberry', 'fig', 'grape']\n",
    "any(len(x) == 6 for x in L), all(isinstance(x, str) for x in L)"
   ]
  },
  {
   "cell_type": "code",
   "execution_count": 116,
   "metadata": {
    "hidden": true
   },
   "outputs": [
    {
     "data": {
      "text/plain": [
       "(['apple', 'banana', 'date', 'grape'],\n",
       " ['elppa', 'ananab', 'surtic', 'etad', 'yrrebredle', 'gif', 'eparg'])"
      ]
     },
     "execution_count": 116,
     "metadata": {},
     "output_type": "execute_result"
    }
   ],
   "source": [
    "list(filter(lambda x: 'a' in x, L)), list(map(lambda x: x[::-1], L))"
   ]
  },
  {
   "cell_type": "code",
   "execution_count": 119,
   "metadata": {
    "hidden": true
   },
   "outputs": [
    {
     "data": {
      "text/plain": [
       "['grape', 'fig', 'elderberry', 'date', 'citrus', 'banana', 'apple']"
      ]
     },
     "execution_count": 119,
     "metadata": {},
     "output_type": "execute_result"
    }
   ],
   "source": [
    "# Sort by reverse lexico order\n",
    "sorted(L, reverse=True)"
   ]
  },
  {
   "cell_type": "code",
   "execution_count": 120,
   "metadata": {
    "hidden": true
   },
   "outputs": [
    {
     "data": {
      "text/plain": [
       "['fig', 'date', 'apple', 'grape', 'banana', 'citrus', 'elderberry']"
      ]
     },
     "execution_count": 120,
     "metadata": {},
     "output_type": "execute_result"
    }
   ],
   "source": [
    "# Sort by word length ascendingly\n",
    "sorted(L, key=len)"
   ]
  },
  {
   "cell_type": "code",
   "execution_count": 127,
   "metadata": {
    "hidden": true
   },
   "outputs": [
    {
     "data": {
      "text/plain": [
       "['banana', 'fig', 'date', 'grape', 'apple', 'elderberry', 'citrus']"
      ]
     },
     "execution_count": 127,
     "metadata": {},
     "output_type": "execute_result"
    }
   ],
   "source": [
    "# Sort by average alphabet order ascendingly\n",
    "sorted(L, key=lambda x: sum(ord(c) for c in x) / len(x) - ord('a'))"
   ]
  },
  {
   "cell_type": "code",
   "execution_count": null,
   "metadata": {
    "collapsed": true,
    "hidden": true
   },
   "outputs": [],
   "source": []
  }
 ],
 "metadata": {
  "anaconda-cloud": {},
  "kernelspec": {
   "display_name": "Python [default]",
   "language": "python",
   "name": "python3"
  },
  "language_info": {
   "codemirror_mode": {
    "name": "ipython",
    "version": 3
   },
   "file_extension": ".py",
   "mimetype": "text/x-python",
   "name": "python",
   "nbconvert_exporter": "python",
   "pygments_lexer": "ipython3",
   "version": "3.5.2"
  }
 },
 "nbformat": 4,
 "nbformat_minor": 2
}
