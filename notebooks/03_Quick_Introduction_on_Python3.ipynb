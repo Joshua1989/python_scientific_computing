{
 "cells": [
  {
   "cell_type": "markdown",
   "metadata": {},
   "source": [
    "# Introduction on Python3"
   ]
  },
  {
   "cell_type": "markdown",
   "metadata": {
    "heading_collapsed": true
   },
   "source": [
    "## Hello, world"
   ]
  },
  {
   "cell_type": "code",
   "execution_count": 4,
   "metadata": {
    "hidden": true
   },
   "outputs": [
    {
     "name": "stdout",
     "output_type": "stream",
     "text": [
      "Hello, world\n"
     ]
    }
   ],
   "source": [
    "print('Hello, world')"
   ]
  },
  {
   "cell_type": "markdown",
   "metadata": {
    "heading_collapsed": true
   },
   "source": [
    "## Basic Variable Types"
   ]
  },
  {
   "cell_type": "code",
   "execution_count": 39,
   "metadata": {
    "hidden": true
   },
   "outputs": [
    {
     "data": {
      "text/plain": [
       "(NoneType, None)"
      ]
     },
     "execution_count": 39,
     "metadata": {},
     "output_type": "execute_result"
    }
   ],
   "source": [
    "# None\n",
    "type(None), None"
   ]
  },
  {
   "cell_type": "code",
   "execution_count": 24,
   "metadata": {
    "hidden": true
   },
   "outputs": [
    {
     "data": {
      "text/plain": [
       "(bool, True, False)"
      ]
     },
     "execution_count": 24,
     "metadata": {},
     "output_type": "execute_result"
    }
   ],
   "source": [
    "# Boolean:\n",
    "bool, True, False"
   ]
  },
  {
   "cell_type": "code",
   "execution_count": 25,
   "metadata": {
    "hidden": true
   },
   "outputs": [
    {
     "data": {
      "text/plain": [
       "(int, 1, 23, 3)"
      ]
     },
     "execution_count": 25,
     "metadata": {},
     "output_type": "execute_result"
    }
   ],
   "source": [
    "# Integer\n",
    "int, 1, 23, int(3.14)"
   ]
  },
  {
   "cell_type": "code",
   "execution_count": 26,
   "metadata": {
    "hidden": true
   },
   "outputs": [
    {
     "data": {
      "text/plain": [
       "(float, 1.2, 3.14, 2.0, inf)"
      ]
     },
     "execution_count": 26,
     "metadata": {},
     "output_type": "execute_result"
    }
   ],
   "source": [
    "# Float\n",
    "float, 1.2, 3.14, float(2), float('inf')"
   ]
  },
  {
   "cell_type": "code",
   "execution_count": 27,
   "metadata": {
    "hidden": true
   },
   "outputs": [
    {
     "data": {
      "text/plain": [
       "(complex, (1+2j), 3.14j, (1+0j))"
      ]
     },
     "execution_count": 27,
     "metadata": {},
     "output_type": "execute_result"
    }
   ],
   "source": [
    "# Complex\n",
    "complex, 1+2j, 3.14j, complex(1)"
   ]
  },
  {
   "cell_type": "code",
   "execution_count": 34,
   "metadata": {
    "hidden": true
   },
   "outputs": [
    {
     "data": {
      "text/plain": [
       "(str, 'abc', 'abc', '(1+2j)', 'abc\\ndef\\nghi', '\\\\t')"
      ]
     },
     "execution_count": 34,
     "metadata": {},
     "output_type": "execute_result"
    }
   ],
   "source": [
    "# String\n",
    "(str, 'abc', \"abc\", str(1+2j),\n",
    "\"\"\"abc\n",
    "def\n",
    "ghi\"\"\",\n",
    "r'\\t')"
   ]
  },
  {
   "cell_type": "code",
   "execution_count": 45,
   "metadata": {
    "hidden": true
   },
   "outputs": [
    {
     "name": "stdout",
     "output_type": "stream",
     "text": [
      "[1, 1, 2, 3, 5, 8, 13, 21, 34, 55]\n",
      "[1, 1, 2, 3, 5, 8, 13, 21, 34, 55]\n"
     ]
    },
    {
     "data": {
      "text/plain": [
       "(function, function)"
      ]
     },
     "execution_count": 45,
     "metadata": {},
     "output_type": "execute_result"
    }
   ],
   "source": [
    "# Function\n",
    "def fibnacci(n):\n",
    "    return 1 if n <= 2 else fibnacci(n-1) + fibnacci(n-2)\n",
    "# Inline function\n",
    "fib_inline = lambda n: 1 if n <= 2 else fib_inline(n-1) + fib_inline(n-2)\n",
    "print([fibnacci(x) for x in range(1, 11)])\n",
    "print([fib_inline(x) for x in range(1, 11)])\n",
    "type(fibnacci), type(fib_inline)"
   ]
  },
  {
   "cell_type": "code",
   "execution_count": 12,
   "metadata": {
    "hidden": true
   },
   "outputs": [
    {
     "data": {
      "text/plain": [
       "(tuple, (1, 2, 3), (1,))"
      ]
     },
     "execution_count": 12,
     "metadata": {},
     "output_type": "execute_result"
    }
   ],
   "source": [
    "# Tuple: ordered tuples, cannot modify after creation\n",
    "t1, t2 = (1, 2, 3), (1,)\n",
    "tuple, t1, t2"
   ]
  },
  {
   "cell_type": "code",
   "execution_count": 47,
   "metadata": {
    "hidden": true
   },
   "outputs": [
    {
     "data": {
      "text/plain": [
       "(set, {1, 2, 3}, {2, 3, 4}, {1, 2, 3, 4}, {2, 3}, {1})"
      ]
     },
     "execution_count": 47,
     "metadata": {},
     "output_type": "execute_result"
    }
   ],
   "source": [
    "# Set: unhashable, unordered, no duplicates\n",
    "A, B = {1, 2, 3}, {2, 3, 4}\n",
    "set, A, B, A | B, A & B, A - B"
   ]
  },
  {
   "cell_type": "code",
   "execution_count": 54,
   "metadata": {
    "hidden": true
   },
   "outputs": [
    {
     "data": {
      "text/plain": [
       "(list, [1, 2, 3], ['a', 'b', 'c'], [1, ['nest', ['Array', 3.14]]])"
      ]
     },
     "execution_count": 54,
     "metadata": {},
     "output_type": "execute_result"
    }
   ],
   "source": [
    "# List: unhashable, general array, can be nested\n",
    "L1, L2, L3 = [1, 2, 3], ['a', 'b', 'c'], [1, ['nest', ['Array', 3.14]]]\n",
    "list, L1, L2, L3"
   ]
  },
  {
   "cell_type": "code",
   "execution_count": 55,
   "metadata": {
    "hidden": true
   },
   "outputs": [
    {
     "name": "stdout",
     "output_type": "stream",
     "text": [
      "{'b': 2, 'a': 1}\n",
      "{'c': 3, 'b': 2, 'a': 1}\n",
      "{'c': 3, 'b': 2}\n",
      "{'c': 3, 'b': 99}\n"
     ]
    }
   ],
   "source": [
    "# Dict: unhashable, general hashmap, can be nested\n",
    "D = {'a':1, 'b':2}\n",
    "print(D)\n",
    "D['c'] = 3\n",
    "print(D)\n",
    "del D['a']\n",
    "print(D)\n",
    "D['b'] = 99\n",
    "print(D)"
   ]
  },
  {
   "cell_type": "markdown",
   "metadata": {
    "heading_collapsed": true
   },
   "source": [
    "## Unhashable vs. Hashable"
   ]
  },
  {
   "cell_type": "markdown",
   "metadata": {
    "hidden": true
   },
   "source": [
    "The easies way to see whether a variable is unhashable or not is to check if it can be the key of a `dict`.\n",
    "\n",
    "Python use `id` to determine whether two variables are the same variable, for two varialbes with same values, they are NOT same variable if they have different id.\n",
    "If two variables have same id, modifying one WILL affact the other.\n",
    "\n",
    "Pyhton support nested data type, but in general:\n",
    "* All listed data type except `set`, `list`, `dict` are unhashable if they are unnested.\n",
    "* As long as a nested variable contain `set`, `list`, `dict` component, it is hashable."
   ]
  },
  {
   "cell_type": "code",
   "execution_count": 13,
   "metadata": {
    "hidden": true
   },
   "outputs": [
    {
     "name": "stdout",
     "output_type": "stream",
     "text": [
      "False False False\n",
      "[1, 2] is not hashable\n",
      "hash of (1, 2) is 3713081631934410656\n",
      "(1, [2]) is not hashable\n"
     ]
    }
   ],
   "source": [
    "a1, a2, b1, b2, c1, c2 = [1,2], [1,2], (1,2), (1,2), (1,[2]), (1,[2])\n",
    "print(id(a1) == id(a2), id(b1) == id(b2), id(c1) == id(c2))\n",
    "for x in [a1, b1, c1]:\n",
    "    try:\n",
    "        print('hash of {0} is {1}'.format(x, hash(x)))\n",
    "    except:\n",
    "        print('{0} is not hashable'.format(x))"
   ]
  },
  {
   "cell_type": "markdown",
   "metadata": {
    "heading_collapsed": true
   },
   "source": [
    "## Operators"
   ]
  },
  {
   "cell_type": "code",
   "execution_count": 73,
   "metadata": {
    "hidden": true
   },
   "outputs": [
    {
     "name": "stdout",
     "output_type": "stream",
     "text": [
      "7 + 3 = 10\n",
      "7 - 3 = 4\n",
      "7 * 3 = 21\n",
      "7 ** 3 = 343\n",
      "7 / 3 = 2.3333333333333335\n",
      "7 % 3 = 1\n",
      "7 // 3 = 2\n",
      "7 == 3 = False\n",
      "7 != 3 = True\n",
      "7 > 3 = True\n",
      "7 <= 3 = False\n",
      "2 << 4 = 32\n"
     ]
    }
   ],
   "source": [
    "a, b = 7, 3\n",
    "ops = ['+', '-', '*', '**', '/', '%', '//', '==', '!=', '>', '<=']\n",
    "for op in ops:\n",
    "    cmd = '{0} {1} {2}'.format(a, op, b)\n",
    "    print(cmd, '=', eval(cmd))\n",
    "print('2 << 4', '=', eval('2 << 4'))"
   ]
  },
  {
   "cell_type": "code",
   "execution_count": 74,
   "metadata": {
    "hidden": true
   },
   "outputs": [
    {
     "name": "stdout",
     "output_type": "stream",
     "text": [
      "not True = False\n",
      "True or False = True\n",
      "True | False = True\n",
      "True and False = False\n",
      "False & True = False\n"
     ]
    }
   ],
   "source": [
    "cmds = ['not True', 'True or False', 'True | False', 'True and False', 'False & True']\n",
    "for cmd in cmds:\n",
    "    print(cmd, '=', eval(cmd))"
   ]
  },
  {
   "cell_type": "code",
   "execution_count": 86,
   "metadata": {
    "hidden": true
   },
   "outputs": [
    {
     "name": "stdout",
     "output_type": "stream",
     "text": [
      "id(a) = 4665716296, id(aa) = 4665716296, id(b) = 4665798152\n",
      "a == aa  ==>  True\n",
      "a is aa  ==>  True\n",
      "a == b  ==>  True\n",
      "a is b  ==>  False\n",
      "'cat' in a  ==>  True\n",
      "'fish' in a  ==>  False\n",
      "'fish' not in a  ==>  True\n"
     ]
    }
   ],
   "source": [
    "a = ['cat', 'dog', 'pig', 'cow', 'horse']\n",
    "b = ['cat', 'dog', 'pig', 'cow', 'horse']\n",
    "aa = a\n",
    "# Python use id to see whether two variable are same\n",
    "print(', '.join(['id({0}) = {1}'.format(x, eval('id({})'.format(x))) for x in ['a', 'aa', 'b']]))\n",
    "cmds = ['a == aa', 'a is aa', 'a == b', 'a is b', \"'cat' in a\", \"'fish' in a\", \"'fish' not in a\"]\n",
    "for cmd in cmds:\n",
    "    print(cmd, ' ==> ', eval(cmd))"
   ]
  },
  {
   "cell_type": "markdown",
   "metadata": {
    "collapsed": true,
    "hidden": true
   },
   "source": [
    "### The operator module\n",
    "\n",
    "Provides versions of operators as functions useful for the functional programming style."
   ]
  },
  {
   "cell_type": "code",
   "execution_count": 15,
   "metadata": {
    "hidden": true
   },
   "outputs": [
    {
     "data": {
      "text/plain": [
       "12"
      ]
     },
     "execution_count": 15,
     "metadata": {},
     "output_type": "execute_result"
    }
   ],
   "source": [
    "import operator as op\n",
    "op.mul(3, 4)"
   ]
  },
  {
   "cell_type": "code",
   "execution_count": 16,
   "metadata": {
    "hidden": true
   },
   "outputs": [
    {
     "data": {
      "text/plain": [
       "120"
      ]
     },
     "execution_count": 16,
     "metadata": {},
     "output_type": "execute_result"
    }
   ],
   "source": [
    "from functools import reduce\n",
    "reduce(op.mul, [2,3,4,5], 1)"
   ]
  },
  {
   "cell_type": "markdown",
   "metadata": {
    "heading_collapsed": true
   },
   "source": [
    "##  Destructuring assignment"
   ]
  },
  {
   "cell_type": "markdown",
   "metadata": {
    "hidden": true
   },
   "source": [
    "This feature of Python enables programmers to write very compact code"
   ]
  },
  {
   "cell_type": "code",
   "execution_count": 17,
   "metadata": {
    "hidden": true
   },
   "outputs": [
    {
     "data": {
      "text/plain": [
       "(1, 2, 3.14)"
      ]
     },
     "execution_count": 17,
     "metadata": {},
     "output_type": "execute_result"
    }
   ],
   "source": [
    "List = [1,2]\n",
    "(L1, L2), pi = List, 3.14\n",
    "L1, L2, pi"
   ]
  },
  {
   "cell_type": "code",
   "execution_count": 21,
   "metadata": {
    "hidden": true
   },
   "outputs": [
    {
     "data": {
      "text/plain": [
       "(1, [2, 3], 4, 5)"
      ]
     },
     "execution_count": 21,
     "metadata": {},
     "output_type": "execute_result"
    }
   ],
   "source": [
    "List = [1,2,3,4,5]\n",
    "head, *middle, second_last, tail = List\n",
    "head, middle, second_last, tail"
   ]
  },
  {
   "cell_type": "code",
   "execution_count": 28,
   "metadata": {
    "hidden": true
   },
   "outputs": [
    {
     "name": "stdout",
     "output_type": "stream",
     "text": [
      "default  ==>  15\n",
      "input *[3,4,5] changes [a,b,c,d,e] to [3,4,5,4,5]  ==>  21\n",
      "input **{c:1,e:10} changes [a,b,c,d,e] to [1,2,1,4,10]  ==>  18\n"
     ]
    }
   ],
   "source": [
    "def f(a=1, b=2, c=3, d=4, e=5):\n",
    "    return a+b+c+d+e\n",
    "print('default  ==> ', f())\n",
    "print('input *[3,4,5] changes [a,b,c,d,e] to [3,4,5,4,5]  ==> ', f(*[3,4,5]))\n",
    "print('input **{c:1,e:10} changes [a,b,c,d,e] to [1,2,1,4,10]  ==> ', f(**{'c':1,'e':10}))"
   ]
  },
  {
   "cell_type": "markdown",
   "metadata": {
    "heading_collapsed": true
   },
   "source": [
    "## Set Manipulation"
   ]
  },
  {
   "cell_type": "code",
   "execution_count": 32,
   "metadata": {
    "hidden": true
   },
   "outputs": [
    {
     "name": "stdout",
     "output_type": "stream",
     "text": [
      "{1, 2, 3, 4}\n",
      "{1, 2, 3, 4}\n",
      "{1, 2, 3, 4, 5}\n",
      "{1, 2, 3, 5}\n"
     ]
    }
   ],
   "source": [
    "s = {1,1,2,3,4}\n",
    "print(s)\n",
    "s.add(2)\n",
    "print(s)\n",
    "s.add(5)\n",
    "print(s)\n",
    "s.discard(4)\n",
    "print(s)"
   ]
  },
  {
   "cell_type": "code",
   "execution_count": 36,
   "metadata": {
    "hidden": true
   },
   "outputs": [
    {
     "data": {
      "text/plain": [
       "({5}, {5})"
      ]
     },
     "execution_count": 36,
     "metadata": {},
     "output_type": "execute_result"
    }
   ],
   "source": [
    "# Set intersection\n",
    "s & {5,6,7}, s.intersection({5,6,7})"
   ]
  },
  {
   "cell_type": "code",
   "execution_count": 37,
   "metadata": {
    "hidden": true
   },
   "outputs": [
    {
     "data": {
      "text/plain": [
       "({1, 2, 3, 5, 6, 7}, {1, 2, 3, 5, 6, 7})"
      ]
     },
     "execution_count": 37,
     "metadata": {},
     "output_type": "execute_result"
    }
   ],
   "source": [
    "# Set union\n",
    "s | {5,6,7}, s.union({5,6,7})"
   ]
  },
  {
   "cell_type": "code",
   "execution_count": 38,
   "metadata": {
    "hidden": true
   },
   "outputs": [
    {
     "data": {
      "text/plain": [
       "({1, 2, 3}, {1, 2, 3})"
      ]
     },
     "execution_count": 38,
     "metadata": {},
     "output_type": "execute_result"
    }
   ],
   "source": [
    "# Set difference\n",
    "s - {5,6,7}, s.difference({5,6,7})"
   ]
  },
  {
   "cell_type": "code",
   "execution_count": 39,
   "metadata": {
    "hidden": true
   },
   "outputs": [
    {
     "data": {
      "text/plain": [
       "({1, 2, 3, 6, 7}, {1, 2, 3, 6, 7})"
      ]
     },
     "execution_count": 39,
     "metadata": {},
     "output_type": "execute_result"
    }
   ],
   "source": [
    "# Symmetric set difference\n",
    "s ^ {5,6,7}, s.symmetric_difference({5,6,7})"
   ]
  },
  {
   "cell_type": "markdown",
   "metadata": {
    "heading_collapsed": true
   },
   "source": [
    "## List Manipulation"
   ]
  },
  {
   "cell_type": "code",
   "execution_count": 64,
   "metadata": {
    "hidden": true
   },
   "outputs": [
    {
     "name": "stdout",
     "output_type": "stream",
     "text": [
      "[1, 2, 3, 4, 5, 1, 2, 1, 2, 3]\n",
      "False True\n",
      "3\n",
      "2\n",
      "[5, 4, 3, 3, 2, 2, 2, 1, 1, 1] [1, 2, 3, 4, 5, 1, 2, 1, 2, 3]\n",
      "[5, 4, 3, 3, 2, 2, 2, 1, 1, 1]\n"
     ]
    }
   ],
   "source": [
    "x = [1,2,3,4,5,1,2,1,2,3]\n",
    "print(x)\n",
    "# Check if an element is in the list\n",
    "print(9 in x, 1 in x)\n",
    "# Count the occurrence of elements\n",
    "print(x.count(1))\n",
    "# Find the index of first occerence of an element\n",
    "print(x.index(3))\n",
    "# Sort the list from large to small and store to a new variable\n",
    "print(sorted(x, reverse=True), x)\n",
    "# Sort the list from large to small inplace\n",
    "x.sort(reverse=True)\n",
    "print(x)"
   ]
  },
  {
   "cell_type": "markdown",
   "metadata": {
    "hidden": true
   },
   "source": [
    "### List slicing"
   ]
  },
  {
   "cell_type": "code",
   "execution_count": 50,
   "metadata": {
    "hidden": true
   },
   "outputs": [
    {
     "name": "stdout",
     "output_type": "stream",
     "text": [
      "[1, 2, 3, 4, 5, 1, 2, 1, 2, 3]\n",
      "[1, 2, 3, 4, 5, 1, 2]\n",
      "[3, 4, 5, 1, 2, 1, 2, 3]\n",
      "[3, 4, 5, 1, 2]\n",
      "[3, 4, 5, 1, 2, 1]\n",
      "[1, 2, 1, 2, 3]\n",
      "[1, 3, 5, 2, 2]\n",
      "[2, 4, 1, 1, 3]\n",
      "[3, 2, 1, 2, 1, 5, 4, 3, 2, 1]\n"
     ]
    }
   ],
   "source": [
    "# full range\n",
    "print(x[:])\n",
    "# before index 7 (not included)\n",
    "print(x[:7])\n",
    "# after index 2 (included)\n",
    "print(x[2:])\n",
    "# from index 2 (included) to index 7 (not included)\n",
    "print(x[2:7])\n",
    "# from index 2 (included) to the second last (not included)\n",
    "print(x[2:-2])\n",
    "# last 5 elements\n",
    "print(x[-5:])\n",
    "# even indices\n",
    "print(x[::2])\n",
    "# odd indices\n",
    "print(x[1::2])\n",
    "# reverse\n",
    "print(x[::-1])"
   ]
  },
  {
   "cell_type": "markdown",
   "metadata": {
    "hidden": true
   },
   "source": [
    "### Concatenation, Modification, Repetition"
   ]
  },
  {
   "cell_type": "code",
   "execution_count": 56,
   "metadata": {
    "hidden": true
   },
   "outputs": [
    {
     "name": "stdout",
     "output_type": "stream",
     "text": [
      "[1, 2, 3, 4, 5, 6]\n",
      "[1, 2, 3, 1, 2, 3, 1, 2, 3]\n",
      "[1, 2, 3, 11, 12]\n",
      "[1, 2, 3, 11, 12, 21, [100, 101]]\n"
     ]
    }
   ],
   "source": [
    "x1, x2 = [1,2,3], [4,5,6]\n",
    "# Concatenatino\n",
    "print(x1+x2)\n",
    "# Repetition\n",
    "print(x1*3)\n",
    "# Extend the list\n",
    "x1.extend([11,12])\n",
    "print(x1)\n",
    "# Append the list, can be nested!\n",
    "x1.append(21)\n",
    "x1.append([100,101])\n",
    "print(x1)"
   ]
  },
  {
   "cell_type": "markdown",
   "metadata": {
    "hidden": true
   },
   "source": [
    "When you initialize a nested list as a 2D array, you must be careful"
   ]
  },
  {
   "cell_type": "code",
   "execution_count": 66,
   "metadata": {
    "hidden": true
   },
   "outputs": [
    {
     "name": "stdout",
     "output_type": "stream",
     "text": [
      "[[1, 0, 0, 0, 0], [1, 0, 0, 0, 0], [1, 0, 0, 0, 0]]\n",
      "[[1, 0, 0, 0, 0], [0, 0, 0, 0, 0], [0, 0, 0, 0, 0]]\n"
     ]
    }
   ],
   "source": [
    "# Initialize a 3*5 all-zero 2D array\n",
    "X1 = [[0]*5]*3 # Wrong, the inner loop is shallow copied\n",
    "X2 = [[0]*5 for _ in range(3)] # Correct, create new list for inner loop\n",
    "X1[0][0], X2[0][0] = 1, 1\n",
    "print(X1)\n",
    "print(X2)"
   ]
  },
  {
   "cell_type": "markdown",
   "metadata": {
    "hidden": true
   },
   "source": [
    "### List Comprehension"
   ]
  },
  {
   "cell_type": "markdown",
   "metadata": {
    "hidden": true
   },
   "source": [
    "The format is\n",
    "```\n",
    "[ mapping(x) for x in iterator if filter(x) ]\n",
    "```"
   ]
  },
  {
   "cell_type": "markdown",
   "metadata": {
    "hidden": true
   },
   "source": [
    "The list of squares of all integers that are smaller than 20, and is multiple of 3"
   ]
  },
  {
   "cell_type": "code",
   "execution_count": 67,
   "metadata": {
    "hidden": true
   },
   "outputs": [
    {
     "data": {
      "text/plain": [
       "[0, 9, 36, 81, 144, 225, 324]"
      ]
     },
     "execution_count": 67,
     "metadata": {},
     "output_type": "execute_result"
    }
   ],
   "source": [
    "[x**2 for x in range(20) if x % 3 == 0]"
   ]
  },
  {
   "cell_type": "markdown",
   "metadata": {
    "hidden": true
   },
   "source": [
    "The list of positive integer (x,y) pairs such that 1 < x < 10 and 1 < y < 10 and x is multiple of y^2"
   ]
  },
  {
   "cell_type": "code",
   "execution_count": 73,
   "metadata": {
    "hidden": true,
    "scrolled": true
   },
   "outputs": [
    {
     "data": {
      "text/plain": [
       "[(4, 2), (8, 2), (9, 3), (12, 2), (16, 2), (16, 4), (18, 3)]"
      ]
     },
     "execution_count": 73,
     "metadata": {},
     "output_type": "execute_result"
    }
   ],
   "source": [
    "[(x,y) for x in range(2, 20) for y in range(2, 20) if x % y**2 == 0]"
   ]
  },
  {
   "cell_type": "code",
   "execution_count": null,
   "metadata": {
    "collapsed": true,
    "hidden": true
   },
   "outputs": [],
   "source": []
  }
 ],
 "metadata": {
  "anaconda-cloud": {},
  "kernelspec": {
   "display_name": "Python [default]",
   "language": "python",
   "name": "python3"
  },
  "language_info": {
   "codemirror_mode": {
    "name": "ipython",
    "version": 3
   },
   "file_extension": ".py",
   "mimetype": "text/x-python",
   "name": "python",
   "nbconvert_exporter": "python",
   "pygments_lexer": "ipython3",
   "version": "3.5.2"
  }
 },
 "nbformat": 4,
 "nbformat_minor": 2
}
