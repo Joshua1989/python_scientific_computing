{
 "cells": [
  {
   "cell_type": "markdown",
   "metadata": {},
   "source": [
    "# Working with Jupyter"
   ]
  },
  {
   "cell_type": "markdown",
   "metadata": {},
   "source": [
    "For a comprehensive introduction, please see https://www.dataquest.io/blog/jupyter-notebook-tips-tricks-shortcuts/"
   ]
  },
  {
   "cell_type": "markdown",
   "metadata": {},
   "source": [
    "## Keyboard Shortcuts"
   ]
  },
  {
   "cell_type": "markdown",
   "metadata": {},
   "source": [
    "### General\n",
    "* See Help menu for list of keyboard shortcuts\n",
    "* For Windows users, the `Ctrl` key is the equivalent of the `Cmd` key\n",
    "* `Cmd-Shift-P`: Brings up command palette (or use the toolbar icon)\n",
    "Most useful shortcuts."
   ]
  },
  {
   "cell_type": "markdown",
   "metadata": {},
   "source": [
    "### In EDIT mode\n",
    "* `ESC`: switch to COMMAND mode\n",
    "* `Tab`: auto-complete\n",
    "* `Shift-Tab`: tooltip (e.g. to get function arguments)\n",
    "* `Cmd-/`: toggle commenting of highlighted code"
   ]
  },
  {
   "cell_type": "markdown",
   "metadata": {},
   "source": [
    "### In COMMAND mode\n",
    "* `Return`: switch to EDIT mode\n",
    "* `F`: Brings up Find and Replace dialog (toggle option to replace within selected cell or whole notebook)\n",
    "* `A`: Create new cell above\n",
    "* `B`: Create new cell below\n",
    "* `C`: Copy current cell\n",
    "* `X`: Cut current cell\n",
    "* `V`: Paste the cell in clipboard below current cell\n",
    "* `DD`: Delete selected cell(s)\n",
    "* `M`: Switch to Markdown cell\n",
    "* `Y`: Switch to Code cell\n",
    "* `Shift-Down`: Select multiple cells\n",
    "* `Shift-Up`: Select multiple cells\n",
    "* `Shift-M`: Merge selected cells\n",
    "* `Shift-Return`: Execute selected cell(s) and insert new cell below\n",
    "* `Ctrl-Return`: Execute selected cell(s) "
   ]
  },
  {
   "cell_type": "markdown",
   "metadata": {},
   "source": [
    "## Magic commands"
   ]
  },
  {
   "cell_type": "markdown",
   "metadata": {},
   "source": [
    "See http://ipython.readthedocs.io/en/stable/interactive/magics.html for the documentation of magic commands"
   ]
  },
  {
   "cell_type": "code",
   "execution_count": 2,
   "metadata": {},
   "outputs": [
    {
     "data": {
      "application/json": {
       "cell": {
        "!": "OSMagics",
        "HTML": "Other",
        "SVG": "Other",
        "bash": "Other",
        "capture": "ExecutionMagics",
        "debug": "ExecutionMagics",
        "file": "Other",
        "html": "DisplayMagics",
        "javascript": "DisplayMagics",
        "js": "DisplayMagics",
        "latex": "DisplayMagics",
        "markdown": "DisplayMagics",
        "perl": "Other",
        "prun": "ExecutionMagics",
        "pypy": "Other",
        "python": "Other",
        "python2": "Other",
        "python3": "Other",
        "ruby": "Other",
        "script": "ScriptMagics",
        "sh": "Other",
        "svg": "DisplayMagics",
        "sx": "OSMagics",
        "system": "OSMagics",
        "time": "ExecutionMagics",
        "timeit": "ExecutionMagics",
        "writefile": "OSMagics"
       },
       "line": {
        "alias": "OSMagics",
        "alias_magic": "BasicMagics",
        "autocall": "AutoMagics",
        "automagic": "AutoMagics",
        "autosave": "KernelMagics",
        "bookmark": "OSMagics",
        "cat": "Other",
        "cd": "OSMagics",
        "clear": "KernelMagics",
        "colors": "BasicMagics",
        "config": "ConfigMagics",
        "connect_info": "KernelMagics",
        "cp": "Other",
        "debug": "ExecutionMagics",
        "dhist": "OSMagics",
        "dirs": "OSMagics",
        "doctest_mode": "BasicMagics",
        "ed": "Other",
        "edit": "KernelMagics",
        "env": "OSMagics",
        "gui": "BasicMagics",
        "hist": "Other",
        "history": "HistoryMagics",
        "killbgscripts": "ScriptMagics",
        "ldir": "Other",
        "less": "KernelMagics",
        "lf": "Other",
        "lk": "Other",
        "ll": "Other",
        "load": "CodeMagics",
        "load_ext": "ExtensionMagics",
        "loadpy": "CodeMagics",
        "logoff": "LoggingMagics",
        "logon": "LoggingMagics",
        "logstart": "LoggingMagics",
        "logstate": "LoggingMagics",
        "logstop": "LoggingMagics",
        "ls": "Other",
        "lsmagic": "BasicMagics",
        "lx": "Other",
        "macro": "ExecutionMagics",
        "magic": "BasicMagics",
        "man": "KernelMagics",
        "matplotlib": "PylabMagics",
        "mkdir": "Other",
        "more": "KernelMagics",
        "mv": "Other",
        "notebook": "BasicMagics",
        "page": "BasicMagics",
        "pastebin": "CodeMagics",
        "pdb": "ExecutionMagics",
        "pdef": "NamespaceMagics",
        "pdoc": "NamespaceMagics",
        "pfile": "NamespaceMagics",
        "pinfo": "NamespaceMagics",
        "pinfo2": "NamespaceMagics",
        "pip": "BasicMagics",
        "popd": "OSMagics",
        "pprint": "BasicMagics",
        "precision": "BasicMagics",
        "profile": "BasicMagics",
        "prun": "ExecutionMagics",
        "psearch": "NamespaceMagics",
        "psource": "NamespaceMagics",
        "pushd": "OSMagics",
        "pwd": "OSMagics",
        "pycat": "OSMagics",
        "pylab": "PylabMagics",
        "qtconsole": "KernelMagics",
        "quickref": "BasicMagics",
        "recall": "HistoryMagics",
        "rehashx": "OSMagics",
        "reload_ext": "ExtensionMagics",
        "rep": "Other",
        "rerun": "HistoryMagics",
        "reset": "NamespaceMagics",
        "reset_selective": "NamespaceMagics",
        "rm": "Other",
        "rmdir": "Other",
        "run": "ExecutionMagics",
        "save": "CodeMagics",
        "sc": "OSMagics",
        "set_env": "OSMagics",
        "store": "StoreMagics",
        "sx": "OSMagics",
        "system": "OSMagics",
        "tb": "ExecutionMagics",
        "time": "ExecutionMagics",
        "timeit": "ExecutionMagics",
        "unalias": "OSMagics",
        "unload_ext": "ExtensionMagics",
        "who": "NamespaceMagics",
        "who_ls": "NamespaceMagics",
        "whos": "NamespaceMagics",
        "xdel": "NamespaceMagics",
        "xmode": "BasicMagics"
       }
      },
      "text/plain": [
       "Available line magics:\n",
       "%alias  %alias_magic  %autocall  %automagic  %autosave  %bookmark  %cat  %cd  %clear  %colors  %config  %connect_info  %cp  %debug  %dhist  %dirs  %doctest_mode  %ed  %edit  %env  %gui  %hist  %history  %killbgscripts  %ldir  %less  %lf  %lk  %ll  %load  %load_ext  %loadpy  %logoff  %logon  %logstart  %logstate  %logstop  %ls  %lsmagic  %lx  %macro  %magic  %man  %matplotlib  %mkdir  %more  %mv  %notebook  %page  %pastebin  %pdb  %pdef  %pdoc  %pfile  %pinfo  %pinfo2  %popd  %pprint  %precision  %profile  %prun  %psearch  %psource  %pushd  %pwd  %pycat  %pylab  %qtconsole  %quickref  %recall  %rehashx  %reload_ext  %rep  %rerun  %reset  %reset_selective  %rm  %rmdir  %run  %save  %sc  %set_env  %store  %sx  %system  %tb  %time  %timeit  %unalias  %unload_ext  %who  %who_ls  %whos  %xdel  %xmode\n",
       "\n",
       "Available cell magics:\n",
       "%%!  %%HTML  %%SVG  %%bash  %%capture  %%debug  %%file  %%html  %%javascript  %%js  %%latex  %%markdown  %%perl  %%prun  %%pypy  %%python  %%python2  %%python3  %%ruby  %%script  %%sh  %%svg  %%sx  %%system  %%time  %%timeit  %%writefile\n",
       "\n",
       "Automagic is ON, % prefix IS NOT needed for line magics."
      ]
     },
     "execution_count": 2,
     "metadata": {},
     "output_type": "execute_result"
    }
   ],
   "source": [
    "%lsmagic"
   ]
  },
  {
   "cell_type": "markdown",
   "metadata": {
    "heading_collapsed": true
   },
   "source": [
    "### Frequently used line magic"
   ]
  },
  {
   "cell_type": "markdown",
   "metadata": {
    "hidden": true
   },
   "source": [
    "bash file manipulation: ls, cat, cp, mv, mkdir"
   ]
  },
  {
   "cell_type": "code",
   "execution_count": 29,
   "metadata": {
    "hidden": true
   },
   "outputs": [
    {
     "name": "stdout",
     "output_type": "stream",
     "text": [
      "00_Getting_Started.ipynb         02_Working_with_Jupyter.ipynb\r\n",
      "01_Customize_Your_Jupyter.ipynb\r\n"
     ]
    }
   ],
   "source": [
    "%ls"
   ]
  },
  {
   "cell_type": "markdown",
   "metadata": {
    "hidden": true
   },
   "source": [
    "check the variables in the workspace: who, whos, who_ls"
   ]
  },
  {
   "cell_type": "code",
   "execution_count": 37,
   "metadata": {
    "collapsed": true,
    "hidden": true
   },
   "outputs": [],
   "source": [
    "a, b, c, s = 1, [2,3,4], {'x1':5, 'x2':6}, 'hello world'"
   ]
  },
  {
   "cell_type": "code",
   "execution_count": 38,
   "metadata": {
    "hidden": true
   },
   "outputs": [
    {
     "name": "stdout",
     "output_type": "stream",
     "text": [
      "Variable   Type    Data/Info\n",
      "----------------------------\n",
      "a          int     1\n",
      "b          list    n=3\n",
      "c          dict    n=2\n",
      "s          str     hello world\n"
     ]
    }
   ],
   "source": [
    "%whos"
   ]
  },
  {
   "cell_type": "markdown",
   "metadata": {
    "hidden": true
   },
   "source": [
    "measure running time: time, timeit, prun"
   ]
  },
  {
   "cell_type": "code",
   "execution_count": 53,
   "metadata": {
    "collapsed": true,
    "hidden": true
   },
   "outputs": [],
   "source": [
    "import numpy as np\n",
    "def test(N=100, T=100):\n",
    "    for _ in range(T):\n",
    "        A = np.random.rand(N,N)\n",
    "        U, s, V = np.linalg.svd(A)"
   ]
  },
  {
   "cell_type": "code",
   "execution_count": 54,
   "metadata": {
    "hidden": true
   },
   "outputs": [
    {
     "name": "stdout",
     "output_type": "stream",
     "text": [
      "CPU times: user 308 ms, sys: 58.7 ms, total: 366 ms\n",
      "Wall time: 292 ms\n"
     ]
    }
   ],
   "source": [
    "%time test()"
   ]
  },
  {
   "cell_type": "code",
   "execution_count": 55,
   "metadata": {
    "hidden": true
   },
   "outputs": [
    {
     "name": "stdout",
     "output_type": "stream",
     "text": [
      "291 ms ± 3.88 ms per loop (mean ± std. dev. of 7 runs, 1 loop each)\n"
     ]
    }
   ],
   "source": [
    "%timeit test()"
   ]
  },
  {
   "cell_type": "code",
   "execution_count": 64,
   "metadata": {
    "hidden": true
   },
   "outputs": [
    {
     "name": "stdout",
     "output_type": "stream",
     "text": [
      " "
     ]
    }
   ],
   "source": [
    "%prun test()"
   ]
  },
  {
   "cell_type": "markdown",
   "metadata": {
    "heading_collapsed": true
   },
   "source": [
    "### Frequently used cell magic"
   ]
  },
  {
   "cell_type": "markdown",
   "metadata": {
    "hidden": true
   },
   "source": [
    "render LaTeX code"
   ]
  },
  {
   "cell_type": "code",
   "execution_count": 69,
   "metadata": {
    "hidden": true
   },
   "outputs": [
    {
     "data": {
      "text/latex": [
       "$ i\\hbar {\\frac {\\partial }{\\partial t}}\\vert \\Psi (\\mathbf {r} ,t)\\rangle ={\\hat {H}}\\vert \\Psi (\\mathbf {r} ,t)\\rangle $"
      ],
      "text/plain": [
       "<IPython.core.display.Latex object>"
      ]
     },
     "metadata": {},
     "output_type": "display_data"
    }
   ],
   "source": [
    "%%latex\n",
    "$ i\\hbar {\\frac {\\partial }{\\partial t}}\\vert \\Psi (\\mathbf {r} ,t)\\rangle ={\\hat {H}}\\vert \\Psi (\\mathbf {r} ,t)\\rangle $"
   ]
  },
  {
   "cell_type": "markdown",
   "metadata": {
    "hidden": true
   },
   "source": [
    "render HTML code"
   ]
  },
  {
   "cell_type": "code",
   "execution_count": 75,
   "metadata": {
    "hidden": true
   },
   "outputs": [
    {
     "data": {
      "text/html": [
       "\n",
       "<b>An HTML image<b>\n",
       "<img alt=\"\" src=\"//upload.wikimedia.org/wikipedia/commons/b/b0/Wave_packet_%28dispersion%29.gif\" width=\"200\" height=\"115\" class=\"thumbimage\" data-file-width=\"200\" data-file-height=\"115\">"
      ],
      "text/plain": [
       "<IPython.core.display.HTML object>"
      ]
     },
     "metadata": {},
     "output_type": "display_data"
    }
   ],
   "source": [
    "%%HTML\n",
    "\n",
    "<b>An HTML image<b>\n",
    "<img alt=\"\" src=\"//upload.wikimedia.org/wikipedia/commons/b/b0/Wave_packet_%28dispersion%29.gif\" width=\"200\" height=\"115\" class=\"thumbimage\" data-file-width=\"200\" data-file-height=\"115\">"
   ]
  },
  {
   "cell_type": "markdown",
   "metadata": {
    "hidden": true
   },
   "source": [
    "run JavaScript code"
   ]
  },
  {
   "cell_type": "code",
   "execution_count": 78,
   "metadata": {
    "hidden": true
   },
   "outputs": [
    {
     "data": {
      "text/html": [
       "<div id='textid'>100</div>"
      ],
      "text/plain": [
       "<IPython.core.display.HTML object>"
      ]
     },
     "execution_count": 78,
     "metadata": {},
     "output_type": "execute_result"
    }
   ],
   "source": [
    "# Python\n",
    "from IPython.display import HTML\n",
    "\n",
    "pystartlife = str(100)\n",
    "HTML(\"<div id='textid'>\" + pystartlife + \"</div>\")"
   ]
  },
  {
   "cell_type": "code",
   "execution_count": 79,
   "metadata": {
    "code_folding": [],
    "hidden": true
   },
   "outputs": [
    {
     "data": {
      "application/javascript": [
       "// Get the python variable from the DOM\n",
       "var startlife = document.getElementById('textid').innerHTML;\n",
       "\n",
       "// Define a User class with a method\n",
       "function User() {\n",
       "    this.name = '';\n",
       "    this.life = Number(startlife);\n",
       "    this.giveLife = function giveLife(targetPlayer) {\n",
       "        targetPlayer.life += 1;\n",
       "        this.life -= 1;\n",
       "    }\n",
       "}\n",
       "\n",
       "// Use class\n",
       "var Alfred = new User();\n",
       "var Wallace = new User();\n",
       "\n",
       "// Names were blank so give them name values\n",
       "Alfred.name = 'Alfred';\n",
       "Wallace.name = 'Wallace';\n",
       "\n",
       "// Let's play a game!\n",
       "\n",
       "// Let Alfred give life to Wallace\n",
       "Alfred.giveLife(Wallace);\n",
       "\n",
       "// Save these variables back to python variables to work with later\n",
       "IPython.notebook.kernel.execute('Alfred_life=\"' + Alfred.life + '\";');\n",
       "IPython.notebook.kernel.execute('Wallace_life=\"' + Wallace.life + '\";');"
      ],
      "text/plain": [
       "<IPython.core.display.Javascript object>"
      ]
     },
     "metadata": {},
     "output_type": "display_data"
    }
   ],
   "source": [
    "%%js\n",
    "// Get the python variable from the DOM\n",
    "var startlife = document.getElementById('textid').innerHTML;\n",
    "\n",
    "// Define a User class with a method\n",
    "function User() {\n",
    "    this.name = '';\n",
    "    this.life = Number(startlife);\n",
    "    this.giveLife = function giveLife(targetPlayer) {\n",
    "        targetPlayer.life += 1;\n",
    "        this.life -= 1;\n",
    "    }\n",
    "}\n",
    "\n",
    "// Use class\n",
    "var Alfred = new User();\n",
    "var Wallace = new User();\n",
    "\n",
    "// Names were blank so give them name values\n",
    "Alfred.name = 'Alfred';\n",
    "Wallace.name = 'Wallace';\n",
    "\n",
    "// Let's play a game!\n",
    "\n",
    "// Let Alfred give life to Wallace\n",
    "Alfred.giveLife(Wallace);\n",
    "\n",
    "// Save these variables back to python variables to work with later\n",
    "IPython.notebook.kernel.execute('Alfred_life=\"' + Alfred.life + '\";');\n",
    "IPython.notebook.kernel.execute('Wallace_life=\"' + Wallace.life + '\";');"
   ]
  },
  {
   "cell_type": "code",
   "execution_count": 80,
   "metadata": {
    "hidden": true
   },
   "outputs": [
    {
     "name": "stdout",
     "output_type": "stream",
     "text": [
      "99\n",
      "101\n"
     ]
    }
   ],
   "source": [
    "# Python\n",
    "print(Alfred_life)\n",
    "print(Wallace_life)"
   ]
  },
  {
   "cell_type": "markdown",
   "metadata": {},
   "source": [
    "# Using shell commands"
   ]
  },
  {
   "cell_type": "code",
   "execution_count": 56,
   "metadata": {},
   "outputs": [
    {
     "name": "stdout",
     "output_type": "stream",
     "text": [
      "/anaconda/bin/python\r\n"
     ]
    }
   ],
   "source": [
    "!which python"
   ]
  },
  {
   "cell_type": "code",
   "execution_count": 57,
   "metadata": {},
   "outputs": [
    {
     "name": "stdout",
     "output_type": "stream",
     "text": [
      "item: 00_Getting_Started.ipynb\n",
      "item: 01_Customize_Your_Jupyter.ipynb\n",
      "item: 02_Working_with_Jupyter.ipynb\n"
     ]
    }
   ],
   "source": [
    "%%bash\n",
    "\n",
    "for i in $(ls); do\n",
    "    echo item: $i\n",
    "done"
   ]
  },
  {
   "cell_type": "markdown",
   "metadata": {},
   "source": [
    "# Getting Help"
   ]
  },
  {
   "cell_type": "markdown",
   "metadata": {},
   "source": [
    "* Use the Help menu for general documentation\n",
    "* Use ? before or after a name to get information about the name\n",
    "* Use ?? before or after a name to also get the source if available\n",
    "* `Shift-Tab`: tooltip (e.g. to get function arguments)"
   ]
  },
  {
   "cell_type": "code",
   "execution_count": 83,
   "metadata": {
    "collapsed": true
   },
   "outputs": [],
   "source": [
    "??np.linalg"
   ]
  },
  {
   "cell_type": "code",
   "execution_count": 86,
   "metadata": {
    "collapsed": true
   },
   "outputs": [],
   "source": [
    "?np.random.randint"
   ]
  },
  {
   "cell_type": "code",
   "execution_count": null,
   "metadata": {
    "collapsed": true
   },
   "outputs": [],
   "source": []
  }
 ],
 "metadata": {
  "kernelspec": {
   "display_name": "Python [default]",
   "language": "python",
   "name": "python3"
  },
  "language_info": {
   "codemirror_mode": {
    "name": "ipython",
    "version": 3
   },
   "file_extension": ".py",
   "mimetype": "text/x-python",
   "name": "python",
   "nbconvert_exporter": "python",
   "pygments_lexer": "ipython3",
   "version": "3.5.2"
  }
 },
 "nbformat": 4,
 "nbformat_minor": 2
}
